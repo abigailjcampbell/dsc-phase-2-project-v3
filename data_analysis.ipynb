{
 "cells": [
  {
   "cell_type": "markdown",
   "metadata": {},
   "source": [
    "## Final Project Submission\n",
    "\n",
    "Please fill out:\n",
    "* Student name: Abigail Campbell\n",
    "* Student pace: Flex\n",
    "* Scheduled project review date/time: 3:00PM EST, 9/6/23\n",
    "* Instructor name: Morgan Jones\n",
    "* Blog post URL: https://medium.com/@abbycampbell0/a-brief-and-incomplete-history-of-ai-468845a93b24\n"
   ]
  },
  {
   "cell_type": "markdown",
   "metadata": {},
   "source": [
    "# Business Problem\n",
    "\n",
    "This company has decided to create a new movie studio, but they don’t know much about creating movies. Before investing in a large movie project, they need to know which types of movies are doing well, which directors perform well within a reasonable budget, and which time of year is best to release. The results of this project are summarized in a presentation suitable to be presented to a non-techinical audience and translated to make clear business recommendations."
   ]
  },
  {
   "cell_type": "markdown",
   "metadata": {},
   "source": [
    "## The Data\n",
    "\n",
    "In the folder zippedData are movie datasets from:s\n",
    "\n",
    "- Box Office Mojo\n",
    "- IMDB\n",
    "- Rotten Tomatoes\n",
    "- TheMovieDB\n",
    "- The Numbers\n",
    "\n",
    "Data from IMDB is located in a SQLite database.\n",
    "\n",
    "The primary data sets used in the investigation were the IMDB SQL database, as well as the The Numbers data set. These data sets were combined to get box office and budget information for specific movies and genres, as well as box office and budget information for specific directors, as well as their ratings."
   ]
  },
  {
   "cell_type": "markdown",
   "metadata": {},
   "source": [
    "# Setup"
   ]
  },
  {
   "cell_type": "markdown",
   "metadata": {},
   "source": [
    "### Import relevant packages"
   ]
  },
  {
   "cell_type": "code",
   "execution_count": 1,
   "metadata": {},
   "outputs": [],
   "source": [
    "import sqlite3 \n",
    "import pandas as pd\n",
    "import numpy as np\n",
    "import zipfile\n",
    "import scipy.stats as stats\n",
    "import statsmodels.api as sm\n",
    "\n",
    "import seaborn as sns\n",
    "import matplotlib.pyplot as plt\n",
    "# plt.style.use('seaborn-v0_8-whitegrid')\n",
    "%matplotlib inline"
   ]
  },
  {
   "cell_type": "markdown",
   "metadata": {},
   "source": [
    "# Load and Clean Data"
   ]
  },
  {
   "cell_type": "markdown",
   "metadata": {},
   "source": [
    "### Movie Info\n",
    "\n",
    "1552 entries after filtering\n",
    "\n",
    "Remove columns: currency, writer, runtime, synopsis, dvd_date\n",
    "\n",
    "runtime note: value = integers, but each integer is followed by 'minutes'\n",
    "\n",
    "dates note: given as month day, year format\n",
    "\n",
    "    - month is in the three letter format\n",
    "    - day is given as 1 or 2 digits (does not put a 0 in from on single digit days)\n",
    "    - year is alwasy 4 digits\n",
    "    \n",
    "Genres given as a list in a single string"
   ]
  },
  {
   "cell_type": "code",
   "execution_count": 2,
   "metadata": {},
   "outputs": [],
   "source": [
    "# load data\n",
    "movie_info = pd.read_csv('zippedData/rt.movie_info.tsv.gz', sep='\\t', thousands=',')\n",
    "\n",
    "# drop columns that are irrelevent\n",
    "movie_info = movie_info.drop(['currency', 'writer', 'runtime', 'synopsis', 'dvd_date'], axis=1)\n",
    "\n",
    "# remove NaN rows for genre\n",
    "movie_info = movie_info.dropna(axis=0, subset=['genre'])\n",
    "\n",
    "# separate genre into a list of genres\n",
    "movie_info['genre'] = movie_info['genre'].map(lambda x: x.split('|'))"
   ]
  },
  {
   "cell_type": "markdown",
   "metadata": {},
   "source": [
    "### Reviews\n",
    "\n",
    "40915 entries after filtering\n",
    "\n",
    "Review format = rating/total possible\n",
    "\n",
    "Fresh = fresh and rotten are the only two values - will probably use this as the rating metric\n",
    "\n",
    "Date: given as month day, year format\n",
    "- month is in the three letter format\n",
    "- day is given as 1 or 2 digits (does not put a 0 in from on single digit days)\n",
    "- year is alwasy 4 digits"
   ]
  },
  {
   "cell_type": "code",
   "execution_count": 3,
   "metadata": {},
   "outputs": [
    {
     "data": {
      "text/html": [
       "<div>\n",
       "<style scoped>\n",
       "    .dataframe tbody tr th:only-of-type {\n",
       "        vertical-align: middle;\n",
       "    }\n",
       "\n",
       "    .dataframe tbody tr th {\n",
       "        vertical-align: top;\n",
       "    }\n",
       "\n",
       "    .dataframe thead th {\n",
       "        text-align: right;\n",
       "    }\n",
       "</style>\n",
       "<table border=\"1\" class=\"dataframe\">\n",
       "  <thead>\n",
       "    <tr style=\"text-align: right;\">\n",
       "      <th></th>\n",
       "      <th>id</th>\n",
       "      <th>review</th>\n",
       "      <th>rating</th>\n",
       "      <th>fresh</th>\n",
       "      <th>critic</th>\n",
       "      <th>top_critic</th>\n",
       "      <th>publisher</th>\n",
       "      <th>date</th>\n",
       "      <th>fresh_rating</th>\n",
       "      <th>year</th>\n",
       "    </tr>\n",
       "  </thead>\n",
       "  <tbody>\n",
       "    <tr>\n",
       "      <th>0</th>\n",
       "      <td>3</td>\n",
       "      <td>A distinctly gallows take on contemporary fina...</td>\n",
       "      <td>3/5</td>\n",
       "      <td>fresh</td>\n",
       "      <td>PJ Nabarro</td>\n",
       "      <td>0</td>\n",
       "      <td>Patrick Nabarro</td>\n",
       "      <td>November 10, 2018</td>\n",
       "      <td>1</td>\n",
       "      <td>2018</td>\n",
       "    </tr>\n",
       "    <tr>\n",
       "      <th>6</th>\n",
       "      <td>3</td>\n",
       "      <td>Quickly grows repetitive and tiresome, meander...</td>\n",
       "      <td>C</td>\n",
       "      <td>rotten</td>\n",
       "      <td>Eric D. Snider</td>\n",
       "      <td>0</td>\n",
       "      <td>EricDSnider.com</td>\n",
       "      <td>July 17, 2013</td>\n",
       "      <td>0</td>\n",
       "      <td>2013</td>\n",
       "    </tr>\n",
       "    <tr>\n",
       "      <th>7</th>\n",
       "      <td>3</td>\n",
       "      <td>Cronenberg is not a director to be daunted by ...</td>\n",
       "      <td>2/5</td>\n",
       "      <td>rotten</td>\n",
       "      <td>Matt Kelemen</td>\n",
       "      <td>0</td>\n",
       "      <td>Las Vegas CityLife</td>\n",
       "      <td>April 21, 2013</td>\n",
       "      <td>0</td>\n",
       "      <td>2013</td>\n",
       "    </tr>\n",
       "    <tr>\n",
       "      <th>11</th>\n",
       "      <td>3</td>\n",
       "      <td>While not one of Cronenberg's stronger films, ...</td>\n",
       "      <td>B-</td>\n",
       "      <td>fresh</td>\n",
       "      <td>Emanuel Levy</td>\n",
       "      <td>0</td>\n",
       "      <td>EmanuelLevy.Com</td>\n",
       "      <td>February 3, 2013</td>\n",
       "      <td>1</td>\n",
       "      <td>2013</td>\n",
       "    </tr>\n",
       "    <tr>\n",
       "      <th>12</th>\n",
       "      <td>3</td>\n",
       "      <td>Robert Pattinson works mighty hard to make Cos...</td>\n",
       "      <td>2/4</td>\n",
       "      <td>rotten</td>\n",
       "      <td>Christian Toto</td>\n",
       "      <td>0</td>\n",
       "      <td>Big Hollywood</td>\n",
       "      <td>January 15, 2013</td>\n",
       "      <td>0</td>\n",
       "      <td>2013</td>\n",
       "    </tr>\n",
       "  </tbody>\n",
       "</table>\n",
       "</div>"
      ],
      "text/plain": [
       "    id                                             review rating   fresh  \\\n",
       "0    3  A distinctly gallows take on contemporary fina...    3/5   fresh   \n",
       "6    3  Quickly grows repetitive and tiresome, meander...      C  rotten   \n",
       "7    3  Cronenberg is not a director to be daunted by ...    2/5  rotten   \n",
       "11   3  While not one of Cronenberg's stronger films, ...     B-   fresh   \n",
       "12   3  Robert Pattinson works mighty hard to make Cos...    2/4  rotten   \n",
       "\n",
       "            critic  top_critic           publisher               date  \\\n",
       "0       PJ Nabarro           0     Patrick Nabarro  November 10, 2018   \n",
       "6   Eric D. Snider           0     EricDSnider.com      July 17, 2013   \n",
       "7     Matt Kelemen           0  Las Vegas CityLife     April 21, 2013   \n",
       "11    Emanuel Levy           0     EmanuelLevy.Com   February 3, 2013   \n",
       "12  Christian Toto           0       Big Hollywood   January 15, 2013   \n",
       "\n",
       "    fresh_rating  year  \n",
       "0              1  2018  \n",
       "6              0  2013  \n",
       "7              0  2013  \n",
       "11             1  2013  \n",
       "12             0  2013  "
      ]
     },
     "execution_count": 3,
     "metadata": {},
     "output_type": "execute_result"
    }
   ],
   "source": [
    "# load data\n",
    "reviews = pd.read_csv('zippedData/rt.reviews.tsv.gz', sep='\\t', encoding='unicode_escape')\n",
    "\n",
    "# convert fresh column to 0 (rotten) or 1 (fresh)\n",
    "reviews['fresh_rating'] = reviews['fresh'].map(lambda x: 0 if 'rotten' in x else 1)\n",
    "\n",
    "# remove all rows with no rating\n",
    "reviews = reviews.dropna(axis=0, subset=['rating'])\n",
    "\n",
    "# create a release year row\n",
    "reviews['year'] = reviews['date'].map(lambda x: int(x[-4:]))\n",
    "\n",
    "reviews.head()\n",
    "# reviews['fresh_rating'].value_counts()"
   ]
  },
  {
   "cell_type": "markdown",
   "metadata": {},
   "source": [
    "### Budgets\n",
    "\n",
    "5792 entries after filtering\n",
    "\n",
    "The budget and gross columns contain a dollar sign at the beginning of the value, as well as columns to separate out thousands.\n",
    "\n",
    "    - remove dollar sign\n",
    "    - remove commas\n",
    "    - convert to integer\n",
    "\n",
    "drop any entires with now movie title"
   ]
  },
  {
   "cell_type": "code",
   "execution_count": 4,
   "metadata": {},
   "outputs": [
    {
     "data": {
      "text/plain": [
       "5782"
      ]
     },
     "execution_count": 4,
     "metadata": {},
     "output_type": "execute_result"
    }
   ],
   "source": [
    "# load data\n",
    "budgets = pd.read_csv('zippedData/tn.movie_budgets.csv.gz', thousands=',')\n",
    "\n",
    "# format the money columns to be integers, without the $ sign\n",
    "budgets = budgets.drop(['id'], axis=1)\n",
    "budgets['production_budget'] = budgets['production_budget'].map(lambda x: int(x[1:].replace(',', '')))\n",
    "budgets['domestic_gross'] = budgets['domestic_gross'].map(lambda x: int(x[1:].replace(',', '')))\n",
    "budgets['worldwide_gross'] = budgets['worldwide_gross'].map(lambda x: int(x[1:].replace(',', ''))) \n",
    "\n",
    "# drop any moves with no title\n",
    "budgets = budgets.dropna(subset=['movie'])\n",
    "\n",
    "budgets = budgets.rename(columns={'movie': 'title'})\n",
    "# budgets = budgets.set_index('title')\n",
    "\n",
    "# calculate roi\n",
    "budgets['domestic_roi'] = budgets['domestic_gross']/budgets['production_budget']\n",
    "budgets['worldwide_roi'] = budgets['worldwide_gross']/budgets['production_budget']\n",
    "len(budgets)"
   ]
  },
  {
   "cell_type": "markdown",
   "metadata": {},
   "source": [
    "### SQL IMDB Database"
   ]
  },
  {
   "cell_type": "code",
   "execution_count": 5,
   "metadata": {},
   "outputs": [],
   "source": [
    "# unzip imdb\n",
    "with zipfile.ZipFile('zippedData/im.db.zip', 'r') as zip_ref:\n",
    "    zip_ref.extractall('zippedData')\n",
    "    \n",
    "# create connection to the SQL database\n",
    "conn = sqlite3.connect('zippedData/im.db')"
   ]
  },
  {
   "cell_type": "markdown",
   "metadata": {},
   "source": [
    "#### Movie Info\n",
    "\n",
    "140,734 entries after filtering\n",
    "\n",
    "    - filtered to only include moves released after 1980 (to only look at movies relevant to recent trends)\n",
    "    - filtered out any entries with no movie title or genre\n",
    "    \n",
    "split the genre column up into a list of individual genres, rather than a string containing all"
   ]
  },
  {
   "cell_type": "code",
   "execution_count": 6,
   "metadata": {},
   "outputs": [
    {
     "data": {
      "text/html": [
       "<div>\n",
       "<style scoped>\n",
       "    .dataframe tbody tr th:only-of-type {\n",
       "        vertical-align: middle;\n",
       "    }\n",
       "\n",
       "    .dataframe tbody tr th {\n",
       "        vertical-align: top;\n",
       "    }\n",
       "\n",
       "    .dataframe thead th {\n",
       "        text-align: right;\n",
       "    }\n",
       "</style>\n",
       "<table border=\"1\" class=\"dataframe\">\n",
       "  <thead>\n",
       "    <tr style=\"text-align: right;\">\n",
       "      <th></th>\n",
       "      <th>movie_id</th>\n",
       "      <th>title</th>\n",
       "      <th>start_year</th>\n",
       "      <th>genres</th>\n",
       "      <th>count</th>\n",
       "    </tr>\n",
       "  </thead>\n",
       "  <tbody>\n",
       "    <tr>\n",
       "      <th>0</th>\n",
       "      <td>tt0063540</td>\n",
       "      <td>Sunghursh</td>\n",
       "      <td>2013</td>\n",
       "      <td>[Action, Crime, Drama]</td>\n",
       "      <td>1</td>\n",
       "    </tr>\n",
       "    <tr>\n",
       "      <th>1</th>\n",
       "      <td>tt0066787</td>\n",
       "      <td>Ashad Ka Ek Din</td>\n",
       "      <td>2019</td>\n",
       "      <td>[Biography, Drama]</td>\n",
       "      <td>1</td>\n",
       "    </tr>\n",
       "    <tr>\n",
       "      <th>2</th>\n",
       "      <td>tt0069049</td>\n",
       "      <td>The Other Side of the Wind</td>\n",
       "      <td>2018</td>\n",
       "      <td>[Drama]</td>\n",
       "      <td>1</td>\n",
       "    </tr>\n",
       "    <tr>\n",
       "      <th>3</th>\n",
       "      <td>tt0069204</td>\n",
       "      <td>Sabse Bada Sukh</td>\n",
       "      <td>2018</td>\n",
       "      <td>[Comedy, Drama]</td>\n",
       "      <td>1</td>\n",
       "    </tr>\n",
       "    <tr>\n",
       "      <th>4</th>\n",
       "      <td>tt0100275</td>\n",
       "      <td>La Telenovela Errante</td>\n",
       "      <td>2017</td>\n",
       "      <td>[Comedy, Drama, Fantasy]</td>\n",
       "      <td>1</td>\n",
       "    </tr>\n",
       "    <tr>\n",
       "      <th>...</th>\n",
       "      <td>...</td>\n",
       "      <td>...</td>\n",
       "      <td>...</td>\n",
       "      <td>...</td>\n",
       "      <td>...</td>\n",
       "    </tr>\n",
       "    <tr>\n",
       "      <th>146138</th>\n",
       "      <td>tt9916428</td>\n",
       "      <td>The Secret of China</td>\n",
       "      <td>2019</td>\n",
       "      <td>[Adventure, History, War]</td>\n",
       "      <td>1</td>\n",
       "    </tr>\n",
       "    <tr>\n",
       "      <th>146139</th>\n",
       "      <td>tt9916538</td>\n",
       "      <td>Kuambil Lagi Hatiku</td>\n",
       "      <td>2019</td>\n",
       "      <td>[Drama]</td>\n",
       "      <td>1</td>\n",
       "    </tr>\n",
       "    <tr>\n",
       "      <th>146140</th>\n",
       "      <td>tt9916622</td>\n",
       "      <td>Rodolpho Teóphilo - O Legado de um Pioneiro</td>\n",
       "      <td>2015</td>\n",
       "      <td>[Documentary]</td>\n",
       "      <td>1</td>\n",
       "    </tr>\n",
       "    <tr>\n",
       "      <th>146141</th>\n",
       "      <td>tt9916706</td>\n",
       "      <td>Dankyavar Danka</td>\n",
       "      <td>2013</td>\n",
       "      <td>[Comedy]</td>\n",
       "      <td>1</td>\n",
       "    </tr>\n",
       "    <tr>\n",
       "      <th>146143</th>\n",
       "      <td>tt9916754</td>\n",
       "      <td>Chico Albuquerque - Revelações</td>\n",
       "      <td>2013</td>\n",
       "      <td>[Documentary]</td>\n",
       "      <td>1</td>\n",
       "    </tr>\n",
       "  </tbody>\n",
       "</table>\n",
       "<p>140734 rows × 5 columns</p>\n",
       "</div>"
      ],
      "text/plain": [
       "         movie_id                                        title  start_year  \\\n",
       "0       tt0063540                                    Sunghursh        2013   \n",
       "1       tt0066787                              Ashad Ka Ek Din        2019   \n",
       "2       tt0069049                   The Other Side of the Wind        2018   \n",
       "3       tt0069204                              Sabse Bada Sukh        2018   \n",
       "4       tt0100275                        La Telenovela Errante        2017   \n",
       "...           ...                                          ...         ...   \n",
       "146138  tt9916428                          The Secret of China        2019   \n",
       "146139  tt9916538                          Kuambil Lagi Hatiku        2019   \n",
       "146140  tt9916622  Rodolpho Teóphilo - O Legado de um Pioneiro        2015   \n",
       "146141  tt9916706                              Dankyavar Danka        2013   \n",
       "146143  tt9916754               Chico Albuquerque - Revelações        2013   \n",
       "\n",
       "                           genres  count  \n",
       "0          [Action, Crime, Drama]      1  \n",
       "1              [Biography, Drama]      1  \n",
       "2                         [Drama]      1  \n",
       "3                 [Comedy, Drama]      1  \n",
       "4        [Comedy, Drama, Fantasy]      1  \n",
       "...                           ...    ...  \n",
       "146138  [Adventure, History, War]      1  \n",
       "146139                    [Drama]      1  \n",
       "146140              [Documentary]      1  \n",
       "146141                   [Comedy]      1  \n",
       "146143              [Documentary]      1  \n",
       "\n",
       "[140734 rows x 5 columns]"
      ]
     },
     "execution_count": 6,
     "metadata": {},
     "output_type": "execute_result"
    }
   ],
   "source": [
    "# table containing move title, id, start_year, and genres\n",
    "# remove all lines without the genre\n",
    "\n",
    "sql_movie_basics = pd.read_sql(\"\"\"\n",
    "                                SELECT movie_id, original_title, start_year, genres\n",
    "                                    FROM movie_basics\n",
    "                                \"\"\", conn)\n",
    "\n",
    "# remove movies with no title\n",
    "sql_movie_basics = sql_movie_basics.dropna(subset=['original_title'])\n",
    "\n",
    "# remove movies before 1980 (trying to stay modern)\n",
    "sql_movie_basics = sql_movie_basics[sql_movie_basics['start_year'] >= 1980]\n",
    "\n",
    "# rename title column, drop all rows with no genre information\n",
    "sql_movie_basics = sql_movie_basics.rename(columns={'original_title': 'title'})\n",
    "sql_movie_basics = sql_movie_basics.dropna(axis=0, subset=['genres'])\n",
    "\n",
    "# split the genres string into a list of individual genres\n",
    "sql_movie_basics['genres'] = sql_movie_basics['genres'].map(lambda x: x.split(','))\n",
    "sql_movie_basics['count'] = 1\n",
    "sql_movie_basics.to_csv('data/sql_movie_basics.csv')\n",
    "sql_movie_basics"
   ]
  },
  {
   "cell_type": "markdown",
   "metadata": {},
   "source": [
    "#### Directors\n",
    "\n",
    "69,772 entries after filtering\n",
    "\n",
    "    - a movie with multiple directors will have multiple rows (one per director)\n",
    "\n",
    "match movie titles to their director using the person and movie ids provided in the database\n",
    "\n",
    "only include movies/directors with more than 10 votes in their rating to ensure that we are getting movies and directors with a wider reach"
   ]
  },
  {
   "cell_type": "code",
   "execution_count": 7,
   "metadata": {},
   "outputs": [
    {
     "data": {
      "text/html": [
       "<div>\n",
       "<style scoped>\n",
       "    .dataframe tbody tr th:only-of-type {\n",
       "        vertical-align: middle;\n",
       "    }\n",
       "\n",
       "    .dataframe tbody tr th {\n",
       "        vertical-align: top;\n",
       "    }\n",
       "\n",
       "    .dataframe thead th {\n",
       "        text-align: right;\n",
       "    }\n",
       "</style>\n",
       "<table border=\"1\" class=\"dataframe\">\n",
       "  <thead>\n",
       "    <tr style=\"text-align: right;\">\n",
       "      <th></th>\n",
       "      <th>title</th>\n",
       "      <th>primary_name</th>\n",
       "      <th>averagerating</th>\n",
       "      <th>numvotes</th>\n",
       "    </tr>\n",
       "  </thead>\n",
       "  <tbody>\n",
       "    <tr>\n",
       "      <th>1</th>\n",
       "      <td>Laiye Je Yaarian</td>\n",
       "      <td>Sukh Sanghera</td>\n",
       "      <td>8.3</td>\n",
       "      <td>31</td>\n",
       "    </tr>\n",
       "    <tr>\n",
       "      <th>2</th>\n",
       "      <td>Borderless</td>\n",
       "      <td>Caolan Robertson</td>\n",
       "      <td>8.9</td>\n",
       "      <td>559</td>\n",
       "    </tr>\n",
       "    <tr>\n",
       "      <th>3</th>\n",
       "      <td>Borderless</td>\n",
       "      <td>George Llewelyn-John</td>\n",
       "      <td>8.9</td>\n",
       "      <td>559</td>\n",
       "    </tr>\n",
       "    <tr>\n",
       "      <th>4</th>\n",
       "      <td>Just Inès</td>\n",
       "      <td>Marcel Grant</td>\n",
       "      <td>6.4</td>\n",
       "      <td>20</td>\n",
       "    </tr>\n",
       "    <tr>\n",
       "      <th>8</th>\n",
       "      <td>The Legend of Hercules</td>\n",
       "      <td>Renny Harlin</td>\n",
       "      <td>4.2</td>\n",
       "      <td>50352</td>\n",
       "    </tr>\n",
       "    <tr>\n",
       "      <th>...</th>\n",
       "      <td>...</td>\n",
       "      <td>...</td>\n",
       "      <td>...</td>\n",
       "      <td>...</td>\n",
       "    </tr>\n",
       "    <tr>\n",
       "      <th>155471</th>\n",
       "      <td>Plugged in</td>\n",
       "      <td>Richard Willett</td>\n",
       "      <td>8.6</td>\n",
       "      <td>27</td>\n",
       "    </tr>\n",
       "    <tr>\n",
       "      <th>155472</th>\n",
       "      <td>Caisa</td>\n",
       "      <td>Alexandru Mavrodineanu</td>\n",
       "      <td>8.1</td>\n",
       "      <td>25</td>\n",
       "    </tr>\n",
       "    <tr>\n",
       "      <th>155474</th>\n",
       "      <td>Code Geass: Lelouch of the Rebellion - Glorifi...</td>\n",
       "      <td>Gorô Taniguchi</td>\n",
       "      <td>7.5</td>\n",
       "      <td>24</td>\n",
       "    </tr>\n",
       "    <tr>\n",
       "      <th>155475</th>\n",
       "      <td>Sisters</td>\n",
       "      <td>Prachya Pinkaew</td>\n",
       "      <td>4.7</td>\n",
       "      <td>14</td>\n",
       "    </tr>\n",
       "    <tr>\n",
       "      <th>155476</th>\n",
       "      <td>Sathru</td>\n",
       "      <td>Naveen Nanjundan</td>\n",
       "      <td>6.3</td>\n",
       "      <td>128</td>\n",
       "    </tr>\n",
       "  </tbody>\n",
       "</table>\n",
       "<p>69772 rows × 4 columns</p>\n",
       "</div>"
      ],
      "text/plain": [
       "                                                    title  \\\n",
       "1                                        Laiye Je Yaarian   \n",
       "2                                              Borderless   \n",
       "3                                              Borderless   \n",
       "4                                               Just Inès   \n",
       "8                                  The Legend of Hercules   \n",
       "...                                                   ...   \n",
       "155471                                         Plugged in   \n",
       "155472                                              Caisa   \n",
       "155474  Code Geass: Lelouch of the Rebellion - Glorifi...   \n",
       "155475                                            Sisters   \n",
       "155476                                             Sathru   \n",
       "\n",
       "                  primary_name  averagerating  numvotes  \n",
       "1                Sukh Sanghera            8.3        31  \n",
       "2             Caolan Robertson            8.9       559  \n",
       "3         George Llewelyn-John            8.9       559  \n",
       "4                 Marcel Grant            6.4        20  \n",
       "8                 Renny Harlin            4.2     50352  \n",
       "...                        ...            ...       ...  \n",
       "155471         Richard Willett            8.6        27  \n",
       "155472  Alexandru Mavrodineanu            8.1        25  \n",
       "155474          Gorô Taniguchi            7.5        24  \n",
       "155475         Prachya Pinkaew            4.7        14  \n",
       "155476        Naveen Nanjundan            6.3       128  \n",
       "\n",
       "[69772 rows x 4 columns]"
      ]
     },
     "execution_count": 7,
     "metadata": {},
     "output_type": "execute_result"
    }
   ],
   "source": [
    "# import directors of movies with more than 10 reviews (to ensure we get movies with some reach)\n",
    "director_table = pd.read_sql(\"\"\"\n",
    "    SELECT m.primary_title, p.primary_name, r.averagerating, r.numvotes\n",
    "        FROM movie_basics as m\n",
    "        JOIN directors as d\n",
    "            ON m.movie_id = d.movie_id\n",
    "        JOIN persons as p\n",
    "            USING(person_id)\n",
    "        JOIN movie_ratings as r\n",
    "            USING(movie_id)\n",
    "        WHERE numvotes > 10\n",
    "    \"\"\", conn)\n",
    "# drop any duplicate entires\n",
    "director_table = director_table.drop_duplicates(keep='last')\n",
    "\n",
    "# rename title column to just title - make all movie title columns univorm\n",
    "director_table = director_table.rename(columns={'primary_title': 'title'})\n",
    "\n",
    "director_table.to_csv('data/director_table.csv')\n",
    "director_table"
   ]
  },
  {
   "cell_type": "markdown",
   "metadata": {},
   "source": [
    "# Combine tables to get the specific metrics"
   ]
  },
  {
   "cell_type": "markdown",
   "metadata": {},
   "source": [
    "## Combine budgets table and movie info table"
   ]
  },
  {
   "cell_type": "markdown",
   "metadata": {},
   "source": [
    "Create new colulmns containing the release year and the release month\n",
    "\n",
    "Since there are several movies released under the same name, only keep the entries where the release year and the start year are within 1 year of each other. If there are still duplicate entries under the same title, drop them, since there is no way of determining which movie the budget data belongs to.\n",
    "\n",
    "after dropping duplicates, the number of movies there is data for drops from 3473 to 2253."
   ]
  },
  {
   "cell_type": "code",
   "execution_count": 8,
   "metadata": {},
   "outputs": [
    {
     "name": "stdout",
     "output_type": "stream",
     "text": [
      "2253\n"
     ]
    }
   ],
   "source": [
    "budgets_basics = budgets.merge(sql_movie_basics, left_on='title', right_on='title')\n",
    "\n",
    "# add a realase month and release year column\n",
    "budgets_basics['release_year'] = budgets_basics['release_date'].map(lambda x: int(x[-4:]))\n",
    "budgets_basics['release_month'] = budgets_basics['release_date'].map(lambda x: x[0:4])\n",
    "\n",
    "# only keep the movies that line up with their start year and release year (deal with duplicates)\n",
    "# budgets_basics_2 = budgets_basics[(budgets_basics[\"release_year\"] - budgets_basics[\"start_year\"] <= 1) & (budgets_basics[\"release_year\"] > budgets_basics[\"start_year\"])].copy()\n",
    "budgets_basics.to_csv('data/budgets_basics.csv')\n",
    "\n",
    "# set title column name to just title - keep all title columns uniform\n",
    "budgets_basics = budgets_basics.set_index('title')\n",
    "\n",
    "# remove any duplicate titles - will be hard to combine with other tables when we are using the title as the point of comparison\n",
    "budgets_basics = budgets_basics[~budgets_basics.index.duplicated()]\n",
    "\n",
    "print(len(budgets_basics))"
   ]
  },
  {
   "cell_type": "markdown",
   "metadata": {},
   "source": [
    "### organize by genre"
   ]
  },
  {
   "cell_type": "markdown",
   "metadata": {},
   "source": [
    "Since the genres are listed in a single string (e.g. 'Comedy, Action, Adventure'), they need to be separated into a list of individual genres the movies can be organized by the base genres."
   ]
  },
  {
   "cell_type": "code",
   "execution_count": 9,
   "metadata": {},
   "outputs": [],
   "source": [
    "# separate out the genre column into one row for each individual genre\n",
    "split_genres = budgets_basics.explode('genres')\n",
    "split_genres.to_csv('data/split_genre.csv')"
   ]
  },
  {
   "cell_type": "markdown",
   "metadata": {},
   "source": [
    "get the sum and mean aggregations, then combine them so as to include average gross earnings and budget data as well as the total data for that genre. \n",
    "\n",
    "add new columns calculating the domestic and worldwide ROIs"
   ]
  },
  {
   "cell_type": "code",
   "execution_count": 10,
   "metadata": {},
   "outputs": [
    {
     "data": {
      "text/html": [
       "<div>\n",
       "<style scoped>\n",
       "    .dataframe tbody tr th:only-of-type {\n",
       "        vertical-align: middle;\n",
       "    }\n",
       "\n",
       "    .dataframe tbody tr th {\n",
       "        vertical-align: top;\n",
       "    }\n",
       "\n",
       "    .dataframe thead th {\n",
       "        text-align: right;\n",
       "    }\n",
       "</style>\n",
       "<table border=\"1\" class=\"dataframe\">\n",
       "  <thead>\n",
       "    <tr style=\"text-align: right;\">\n",
       "      <th></th>\n",
       "      <th>production_budget</th>\n",
       "      <th>domestic_gross</th>\n",
       "      <th>worldwide_gross</th>\n",
       "      <th>domestic_roi</th>\n",
       "      <th>worldwide_roi</th>\n",
       "      <th>start_year</th>\n",
       "      <th>count</th>\n",
       "      <th>release_year</th>\n",
       "      <th>total_domestic_gross</th>\n",
       "      <th>total_worldwide_gross</th>\n",
       "    </tr>\n",
       "  </thead>\n",
       "  <tbody>\n",
       "    <tr>\n",
       "      <th>count</th>\n",
       "      <td>2.100000e+01</td>\n",
       "      <td>2.100000e+01</td>\n",
       "      <td>2.100000e+01</td>\n",
       "      <td>21.000000</td>\n",
       "      <td>21.000000</td>\n",
       "      <td>21.000000</td>\n",
       "      <td>21.000000</td>\n",
       "      <td>21.000000</td>\n",
       "      <td>2.100000e+01</td>\n",
       "      <td>2.100000e+01</td>\n",
       "    </tr>\n",
       "    <tr>\n",
       "      <th>mean</th>\n",
       "      <td>3.998325e+07</td>\n",
       "      <td>4.891433e+07</td>\n",
       "      <td>1.209342e+08</td>\n",
       "      <td>1.278929</td>\n",
       "      <td>2.957526</td>\n",
       "      <td>2013.870849</td>\n",
       "      <td>249.809524</td>\n",
       "      <td>2010.982861</td>\n",
       "      <td>1.211876e+10</td>\n",
       "      <td>3.025205e+10</td>\n",
       "    </tr>\n",
       "    <tr>\n",
       "      <th>std</th>\n",
       "      <td>2.491352e+07</td>\n",
       "      <td>2.902721e+07</td>\n",
       "      <td>8.757421e+07</td>\n",
       "      <td>0.278359</td>\n",
       "      <td>0.643543</td>\n",
       "      <td>0.485888</td>\n",
       "      <td>258.228507</td>\n",
       "      <td>2.213178</td>\n",
       "      <td>1.320875e+10</td>\n",
       "      <td>3.534494e+10</td>\n",
       "    </tr>\n",
       "    <tr>\n",
       "      <th>min</th>\n",
       "      <td>1.592538e+07</td>\n",
       "      <td>2.411895e+07</td>\n",
       "      <td>4.881133e+07</td>\n",
       "      <td>0.772692</td>\n",
       "      <td>1.669083</td>\n",
       "      <td>2013.027778</td>\n",
       "      <td>16.000000</td>\n",
       "      <td>2005.187500</td>\n",
       "      <td>5.665374e+08</td>\n",
       "      <td>1.223772e+09</td>\n",
       "    </tr>\n",
       "    <tr>\n",
       "      <th>25%</th>\n",
       "      <td>2.316298e+07</td>\n",
       "      <td>2.855176e+07</td>\n",
       "      <td>6.057257e+07</td>\n",
       "      <td>1.060100</td>\n",
       "      <td>2.570243</td>\n",
       "      <td>2013.590551</td>\n",
       "      <td>65.000000</td>\n",
       "      <td>2010.291971</td>\n",
       "      <td>1.855865e+09</td>\n",
       "      <td>3.855351e+09</td>\n",
       "    </tr>\n",
       "    <tr>\n",
       "      <th>50%</th>\n",
       "      <td>2.743308e+07</td>\n",
       "      <td>3.332573e+07</td>\n",
       "      <td>7.198656e+07</td>\n",
       "      <td>1.270671</td>\n",
       "      <td>2.900322</td>\n",
       "      <td>2013.741935</td>\n",
       "      <td>169.000000</td>\n",
       "      <td>2011.817680</td>\n",
       "      <td>6.985467e+09</td>\n",
       "      <td>1.456526e+10</td>\n",
       "    </tr>\n",
       "    <tr>\n",
       "      <th>75%</th>\n",
       "      <td>5.309025e+07</td>\n",
       "      <td>6.911474e+07</td>\n",
       "      <td>1.606471e+08</td>\n",
       "      <td>1.399047</td>\n",
       "      <td>3.337935</td>\n",
       "      <td>2014.242604</td>\n",
       "      <td>303.000000</td>\n",
       "      <td>2012.564516</td>\n",
       "      <td>1.437583e+10</td>\n",
       "      <td>3.920097e+10</td>\n",
       "    </tr>\n",
       "    <tr>\n",
       "      <th>max</th>\n",
       "      <td>9.369193e+07</td>\n",
       "      <td>1.178347e+08</td>\n",
       "      <td>3.213194e+08</td>\n",
       "      <td>1.933618</td>\n",
       "      <td>4.494412</td>\n",
       "      <td>2015.187500</td>\n",
       "      <td>1100.000000</td>\n",
       "      <td>2013.184615</td>\n",
       "      <td>4.456405e+10</td>\n",
       "      <td>1.263034e+11</td>\n",
       "    </tr>\n",
       "  </tbody>\n",
       "</table>\n",
       "</div>"
      ],
      "text/plain": [
       "       production_budget  domestic_gross  worldwide_gross  domestic_roi  \\\n",
       "count       2.100000e+01    2.100000e+01     2.100000e+01     21.000000   \n",
       "mean        3.998325e+07    4.891433e+07     1.209342e+08      1.278929   \n",
       "std         2.491352e+07    2.902721e+07     8.757421e+07      0.278359   \n",
       "min         1.592538e+07    2.411895e+07     4.881133e+07      0.772692   \n",
       "25%         2.316298e+07    2.855176e+07     6.057257e+07      1.060100   \n",
       "50%         2.743308e+07    3.332573e+07     7.198656e+07      1.270671   \n",
       "75%         5.309025e+07    6.911474e+07     1.606471e+08      1.399047   \n",
       "max         9.369193e+07    1.178347e+08     3.213194e+08      1.933618   \n",
       "\n",
       "       worldwide_roi   start_year        count  release_year  \\\n",
       "count      21.000000    21.000000    21.000000     21.000000   \n",
       "mean        2.957526  2013.870849   249.809524   2010.982861   \n",
       "std         0.643543     0.485888   258.228507      2.213178   \n",
       "min         1.669083  2013.027778    16.000000   2005.187500   \n",
       "25%         2.570243  2013.590551    65.000000   2010.291971   \n",
       "50%         2.900322  2013.741935   169.000000   2011.817680   \n",
       "75%         3.337935  2014.242604   303.000000   2012.564516   \n",
       "max         4.494412  2015.187500  1100.000000   2013.184615   \n",
       "\n",
       "       total_domestic_gross  total_worldwide_gross  \n",
       "count          2.100000e+01           2.100000e+01  \n",
       "mean           1.211876e+10           3.025205e+10  \n",
       "std            1.320875e+10           3.534494e+10  \n",
       "min            5.665374e+08           1.223772e+09  \n",
       "25%            1.855865e+09           3.855351e+09  \n",
       "50%            6.985467e+09           1.456526e+10  \n",
       "75%            1.437583e+10           3.920097e+10  \n",
       "max            4.456405e+10           1.263034e+11  "
      ]
     },
     "execution_count": 10,
     "metadata": {},
     "output_type": "execute_result"
    }
   ],
   "source": [
    "# get aggregations for genre information\n",
    "genre_roi = split_genres.groupby('genres').mean()\n",
    "genre_roi_sum = split_genres.groupby('genres').sum()\n",
    "genre_roi['count'] = genre_roi_sum['count']\n",
    "genre_roi['total_domestic_gross'] = genre_roi_sum['domestic_gross']\n",
    "genre_roi['total_worldwide_gross'] = genre_roi_sum['worldwide_gross']\n",
    "\n",
    "# recalc rois\n",
    "genre_roi['domestic_roi'] = genre_roi['domestic_gross']/genre_roi['production_budget']\n",
    "genre_roi['worldwide_roi'] = genre_roi['worldwide_gross']/genre_roi['production_budget']\n",
    "\n",
    "genre_roi.to_csv('data/genre_roi.csv')\n",
    "genre_roi.describe()"
   ]
  },
  {
   "cell_type": "markdown",
   "metadata": {},
   "source": [
    "from the describe stats, we can see that the average movie make about $50M at the domestic box office with an average domestic ROI of 1.27"
   ]
  },
  {
   "cell_type": "code",
   "execution_count": 11,
   "metadata": {},
   "outputs": [],
   "source": [
    "# reset index\n",
    "genre_roi = genre_roi.reset_index()"
   ]
  },
  {
   "cell_type": "markdown",
   "metadata": {},
   "source": [
    "### Genre visualizations\n",
    "plot the number of movies per genre, the average domestic ROI per month per genre, and the average domestic gross earnings per month"
   ]
  },
  {
   "cell_type": "code",
   "execution_count": 12,
   "metadata": {},
   "outputs": [
    {
     "data": {
      "image/png": "[encoded data removed]",
      "text/plain": [
       "<Figure size 1080x432 with 3 Axes>"
      ]
     },
     "metadata": {
      "needs_background": "light"
     },
     "output_type": "display_data"
    }
   ],
   "source": [
    "# plot genre parameters\n",
    "fig, axes = plt.subplots(1, 3, figsize=(15, 6))\n",
    "\n",
    "# number of movies per genre\n",
    "sns.barplot(ax=axes[0], data=genre_roi, y=\"genres\", x=\"count\")\n",
    "axes[0].set_title('N Movies per Genre')\n",
    "\n",
    "# domestic roi per genre\n",
    "sns.barplot(ax=axes[1], data=genre_roi, y=\"genres\", x=\"domestic_roi\")\n",
    "axes[1].set_title('Domestic ROI per Genre')\n",
    "\n",
    "# domestic roi per genre\n",
    "sns.barplot(ax=axes[2], data=genre_roi, y=\"genres\", x=\"domestic_gross\")\n",
    "axes[2].set_title('Domestic Gross Earnings per Genre')\n",
    "\n",
    "plt.show()"
   ]
  },
  {
   "cell_type": "markdown",
   "metadata": {},
   "source": [
    "#### ROI plot per genre\n",
    "plot the average budget on the x axis and average domestic gross earnings on the y axis\n",
    "include a y=x line to represent an ROI=1"
   ]
  },
  {
   "cell_type": "code",
   "execution_count": 13,
   "metadata": {},
   "outputs": [
    {
     "data": {
      "text/plain": [
       "<matplotlib.legend.Legend at 0x7f7b42b18d30>"
      ]
     },
     "execution_count": 13,
     "metadata": {},
     "output_type": "execute_result"
    },
    {
     "data": {
      "image/png": "[encoded data removed]",
      "text/plain": [
       "<Figure size 1080x576 with 1 Axes>"
      ]
     },
     "metadata": {
      "needs_background": "light"
     },
     "output_type": "display_data"
    }
   ],
   "source": [
    "# plot genre parameters\n",
    "fig, axes = plt.subplots(figsize=(15, 8))\n",
    "\n",
    "# number of movies per genre\n",
    "sns.scatterplot(data=genre_roi, x=\"production_budget\", y=\"domestic_gross\", hue=\"genres\")\n",
    "axes.set_title('Genre ROI')\n",
    "\n",
    "# add ROI = 1 line\n",
    "plt.plot([0, 120000000], [0, 120000000], '-', label='ROI = 1 Line')\n",
    "\n",
    "plt.legend()"
   ]
  },
  {
   "cell_type": "markdown",
   "metadata": {},
   "source": [
    "- high risk high reward genres: animation, sci-fi\n",
    "- low risk low reward genres: sport, biography, horror\n",
    "- middle ground: family, action"
   ]
  },
  {
   "cell_type": "markdown",
   "metadata": {},
   "source": [
    "## organize by release month"
   ]
  },
  {
   "cell_type": "markdown",
   "metadata": {},
   "source": [
    "Group the data by the relase month column created during data cleaning. \n",
    "\n",
    "get the sum and mean aggregations, then combine them so as to include average gross earnings and budget data as well as the total data for that month."
   ]
  },
  {
   "cell_type": "code",
   "execution_count": 14,
   "metadata": {},
   "outputs": [],
   "source": [
    "month_sums = budgets_basics.groupby('release_month').sum()\n",
    "month_sums.to_csv('data/month_sums.csv')\n",
    "\n",
    "month_means = budgets_basics.groupby('release_month').mean()\n",
    "month_means.to_csv('data/month_means.csv')\n",
    "\n",
    "# reset index\n",
    "month_sums = month_sums.reset_index()\n",
    "month_means = month_means.reset_index()"
   ]
  },
  {
   "cell_type": "markdown",
   "metadata": {},
   "source": [
    "### Month visualizations\n",
    "plot the number of movies per month, the average domestic ROI per month, and the average domestic gross earnings per month"
   ]
  },
  {
   "cell_type": "code",
   "execution_count": 15,
   "metadata": {},
   "outputs": [
    {
     "data": {
      "image/png": "[encoded data removed]",
      "text/plain": [
       "<Figure size 1080x360 with 3 Axes>"
      ]
     },
     "metadata": {
      "needs_background": "light"
     },
     "output_type": "display_data"
    }
   ],
   "source": [
    "# plot stats per month\n",
    "fig, axes = plt.subplots(1, 3, figsize=(15, 5))\n",
    "\n",
    "# number of movies released per month\n",
    "sns.barplot(ax = axes[0], data=month_sums, y=\"release_month\", x=\"count\")\n",
    "axes[0].set_title('N Movies per Month')\n",
    "\n",
    "# total domestic gross per month\n",
    "sns.barplot(ax = axes[1], data=month_sums, y=\"release_month\", x=\"domestic_gross\")\n",
    "axes[1].set_title('Total Domestic Gross per Month')\n",
    "\n",
    "# average ROI of movies released per month\n",
    "sns.barplot(ax = axes[2], data=month_means, y=\"release_month\", x=\"domestic_roi\")\n",
    "axes[2].set_title('Average ROI per Month')\n",
    "\n",
    "plt.show()"
   ]
  },
  {
   "cell_type": "markdown",
   "metadata": {},
   "source": [
    "- Month with the most movies: December\n",
    "- Month with the most earings: June"
   ]
  },
  {
   "cell_type": "markdown",
   "metadata": {},
   "source": [
    "## Combine directors table and budgets table"
   ]
  },
  {
   "cell_type": "markdown",
   "metadata": {},
   "source": [
    "Combine the directors data set and the budgets data set, using the movie title as the common column"
   ]
  },
  {
   "cell_type": "code",
   "execution_count": 16,
   "metadata": {},
   "outputs": [],
   "source": [
    "budgets_directors = budgets.merge(director_table, left_on='title', right_on='title')\n",
    "budgets_directors = budgets_directors.set_index('title')\n",
    "budgets_directors.to_csv('data/budgets_directors.csv')"
   ]
  },
  {
   "cell_type": "markdown",
   "metadata": {},
   "source": [
    "## Group by director and get average domestic and worldwide ROI"
   ]
  },
  {
   "cell_type": "markdown",
   "metadata": {},
   "source": [
    "Group the table by the directors name\n",
    "\n",
    "get their aggreate sum, mean and count data and combine into a table to get their total numbers of movies, average and total budgets and earnings, and their average ratings"
   ]
  },
  {
   "cell_type": "code",
   "execution_count": 17,
   "metadata": {},
   "outputs": [
    {
     "data": {
      "text/html": [
       "<div>\n",
       "<style scoped>\n",
       "    .dataframe tbody tr th:only-of-type {\n",
       "        vertical-align: middle;\n",
       "    }\n",
       "\n",
       "    .dataframe tbody tr th {\n",
       "        vertical-align: top;\n",
       "    }\n",
       "\n",
       "    .dataframe thead th {\n",
       "        text-align: right;\n",
       "    }\n",
       "</style>\n",
       "<table border=\"1\" class=\"dataframe\">\n",
       "  <thead>\n",
       "    <tr style=\"text-align: right;\">\n",
       "      <th></th>\n",
       "      <th>production_budget</th>\n",
       "      <th>domestic_gross</th>\n",
       "      <th>worldwide_gross</th>\n",
       "      <th>domestic_roi</th>\n",
       "      <th>worldwide_roi</th>\n",
       "      <th>averagerating</th>\n",
       "      <th>numvotes</th>\n",
       "      <th>count</th>\n",
       "      <th>total_production_budget</th>\n",
       "      <th>total_domestic_gross</th>\n",
       "      <th>total_worldwide_gross</th>\n",
       "    </tr>\n",
       "    <tr>\n",
       "      <th>primary_name</th>\n",
       "      <th></th>\n",
       "      <th></th>\n",
       "      <th></th>\n",
       "      <th></th>\n",
       "      <th></th>\n",
       "      <th></th>\n",
       "      <th></th>\n",
       "      <th></th>\n",
       "      <th></th>\n",
       "      <th></th>\n",
       "      <th></th>\n",
       "    </tr>\n",
       "  </thead>\n",
       "  <tbody>\n",
       "    <tr>\n",
       "      <th>Aaron Seltzer</th>\n",
       "      <td>20000000.0</td>\n",
       "      <td>36661504.0</td>\n",
       "      <td>81424988.0</td>\n",
       "      <td>1.833075</td>\n",
       "      <td>4.071249</td>\n",
       "      <td>3.4</td>\n",
       "      <td>43984.0</td>\n",
       "      <td>1</td>\n",
       "      <td>20000000</td>\n",
       "      <td>36661504</td>\n",
       "      <td>81424988</td>\n",
       "    </tr>\n",
       "    <tr>\n",
       "      <th>Aash Aaron</th>\n",
       "      <td>3500000.0</td>\n",
       "      <td>12600000.0</td>\n",
       "      <td>12600000.0</td>\n",
       "      <td>3.600000</td>\n",
       "      <td>3.600000</td>\n",
       "      <td>8.1</td>\n",
       "      <td>16.0</td>\n",
       "      <td>1</td>\n",
       "      <td>3500000</td>\n",
       "      <td>12600000</td>\n",
       "      <td>12600000</td>\n",
       "    </tr>\n",
       "    <tr>\n",
       "      <th>Aashiq Abu</th>\n",
       "      <td>75000000.0</td>\n",
       "      <td>14010690.0</td>\n",
       "      <td>30626690.0</td>\n",
       "      <td>0.186809</td>\n",
       "      <td>0.408356</td>\n",
       "      <td>8.6</td>\n",
       "      <td>372.0</td>\n",
       "      <td>1</td>\n",
       "      <td>75000000</td>\n",
       "      <td>14010690</td>\n",
       "      <td>30626690</td>\n",
       "    </tr>\n",
       "    <tr>\n",
       "      <th>Abby Kohn</th>\n",
       "      <td>32000000.0</td>\n",
       "      <td>48795601.0</td>\n",
       "      <td>91553797.0</td>\n",
       "      <td>1.524863</td>\n",
       "      <td>2.861056</td>\n",
       "      <td>5.4</td>\n",
       "      <td>39936.0</td>\n",
       "      <td>1</td>\n",
       "      <td>32000000</td>\n",
       "      <td>48795601</td>\n",
       "      <td>91553797</td>\n",
       "    </tr>\n",
       "    <tr>\n",
       "      <th>Abhijit Guha</th>\n",
       "      <td>85000000.0</td>\n",
       "      <td>85900357.5</td>\n",
       "      <td>247044307.0</td>\n",
       "      <td>1.071387</td>\n",
       "      <td>3.007657</td>\n",
       "      <td>6.2</td>\n",
       "      <td>72.0</td>\n",
       "      <td>2</td>\n",
       "      <td>170000000</td>\n",
       "      <td>171800715</td>\n",
       "      <td>494088614</td>\n",
       "    </tr>\n",
       "  </tbody>\n",
       "</table>\n",
       "</div>"
      ],
      "text/plain": [
       "               production_budget  domestic_gross  worldwide_gross  \\\n",
       "primary_name                                                        \n",
       "Aaron Seltzer         20000000.0      36661504.0       81424988.0   \n",
       "Aash Aaron             3500000.0      12600000.0       12600000.0   \n",
       "Aashiq Abu            75000000.0      14010690.0       30626690.0   \n",
       "Abby Kohn             32000000.0      48795601.0       91553797.0   \n",
       "Abhijit Guha          85000000.0      85900357.5      247044307.0   \n",
       "\n",
       "               domestic_roi  worldwide_roi  averagerating  numvotes  count  \\\n",
       "primary_name                                                                 \n",
       "Aaron Seltzer      1.833075       4.071249            3.4   43984.0      1   \n",
       "Aash Aaron         3.600000       3.600000            8.1      16.0      1   \n",
       "Aashiq Abu         0.186809       0.408356            8.6     372.0      1   \n",
       "Abby Kohn          1.524863       2.861056            5.4   39936.0      1   \n",
       "Abhijit Guha       1.071387       3.007657            6.2      72.0      2   \n",
       "\n",
       "               total_production_budget  total_domestic_gross  \\\n",
       "primary_name                                                   \n",
       "Aaron Seltzer                 20000000              36661504   \n",
       "Aash Aaron                     3500000              12600000   \n",
       "Aashiq Abu                    75000000              14010690   \n",
       "Abby Kohn                     32000000              48795601   \n",
       "Abhijit Guha                 170000000             171800715   \n",
       "\n",
       "               total_worldwide_gross  \n",
       "primary_name                          \n",
       "Aaron Seltzer               81424988  \n",
       "Aash Aaron                  12600000  \n",
       "Aashiq Abu                  30626690  \n",
       "Abby Kohn                   91553797  \n",
       "Abhijit Guha               494088614  "
      ]
     },
     "execution_count": 17,
     "metadata": {},
     "output_type": "execute_result"
    }
   ],
   "source": [
    "director_roi = budgets_directors.groupby('primary_name').mean()\n",
    "director_roi_count = budgets_directors.groupby('primary_name').count()\n",
    "director_row_sum = budgets_directors.groupby('primary_name').sum()\n",
    "\n",
    "# combine tables\n",
    "director_roi['count'] = director_roi_count['averagerating']\n",
    "director_roi['total_production_budget'] = director_row_sum['production_budget']\n",
    "director_roi['total_domestic_gross'] = director_row_sum['domestic_gross']\n",
    "director_roi['total_worldwide_gross'] = director_row_sum['worldwide_gross']\n",
    "\n",
    "\n",
    "# remove rows with 0 gross earnings for bother domestic and worldwide\n",
    "director_roi = director_roi[(director_roi['domestic_gross'] >= 1000000) & (director_roi['worldwide_gross'] >= 1000000)]\n",
    "\n",
    "director_roi.to_csv('data/director_roi.csv')\n",
    "\n",
    "director_roi.head()"
   ]
  },
  {
   "cell_type": "markdown",
   "metadata": {},
   "source": [
    "Filter the table to only include \n",
    "\n",
    "    - directors with average ratings above 7 (highly rated)\n",
    "    - budgets between 1M and 100M (reasonable budgets)\n",
    "    - at least 3 movie credits (experienced)"
   ]
  },
  {
   "cell_type": "code",
   "execution_count": 18,
   "metadata": {},
   "outputs": [],
   "source": [
    "# sort top to bottom by domestic roi\n",
    "director_roi_sorted = director_roi.sort_values('domestic_roi', ascending=False)\n",
    "\n",
    "# restrict to directors with reasonable budgetes (between 1M and 100M)\n",
    "director_high_budgets = director_roi_sorted[(director_roi_sorted['production_budget'] >= 1000000)]\n",
    "director_reasonable_budgets = director_high_budgets[(director_high_budgets['production_budget'] <= 100000000)]\n",
    "\n",
    "# restrict to directors with averag ratings above 7\n",
    "high_rated_directors = director_reasonable_budgets[(director_reasonable_budgets['averagerating'] > 7)]\n",
    "\n",
    "# restrict to directors with more than 2 movies, to get experienced directors\n",
    "experienced_directors = high_rated_directors[(high_rated_directors['count'] > 2)]\n",
    "\n",
    "experienced_directors.to_csv('data/experienced_directors.csv')"
   ]
  },
  {
   "cell_type": "code",
   "execution_count": 19,
   "metadata": {},
   "outputs": [],
   "source": [
    "experienced_directors_sorted = experienced_directors.sort_values('averagerating', ascending=False)"
   ]
  },
  {
   "cell_type": "code",
   "execution_count": 20,
   "metadata": {},
   "outputs": [
    {
     "data": {
      "text/html": [
       "<div>\n",
       "<style scoped>\n",
       "    .dataframe tbody tr th:only-of-type {\n",
       "        vertical-align: middle;\n",
       "    }\n",
       "\n",
       "    .dataframe tbody tr th {\n",
       "        vertical-align: top;\n",
       "    }\n",
       "\n",
       "    .dataframe thead th {\n",
       "        text-align: right;\n",
       "    }\n",
       "</style>\n",
       "<table border=\"1\" class=\"dataframe\">\n",
       "  <thead>\n",
       "    <tr style=\"text-align: right;\">\n",
       "      <th></th>\n",
       "      <th>primary_name</th>\n",
       "      <th>production_budget</th>\n",
       "      <th>domestic_gross</th>\n",
       "      <th>worldwide_gross</th>\n",
       "      <th>domestic_roi</th>\n",
       "      <th>worldwide_roi</th>\n",
       "      <th>averagerating</th>\n",
       "      <th>numvotes</th>\n",
       "      <th>count</th>\n",
       "      <th>total_production_budget</th>\n",
       "      <th>total_domestic_gross</th>\n",
       "      <th>total_worldwide_gross</th>\n",
       "    </tr>\n",
       "  </thead>\n",
       "  <tbody>\n",
       "    <tr>\n",
       "      <th>0</th>\n",
       "      <td>Dario Pleic</td>\n",
       "      <td>4.750000e+07</td>\n",
       "      <td>5.913765e+07</td>\n",
       "      <td>1.435970e+08</td>\n",
       "      <td>0.465154</td>\n",
       "      <td>30.851850</td>\n",
       "      <td>8.400000</td>\n",
       "      <td>32.000000</td>\n",
       "      <td>3</td>\n",
       "      <td>142500000</td>\n",
       "      <td>177412943</td>\n",
       "      <td>430791064</td>\n",
       "    </tr>\n",
       "    <tr>\n",
       "      <th>1</th>\n",
       "      <td>Denis Villeneuve</td>\n",
       "      <td>6.296000e+07</td>\n",
       "      <td>6.146980e+07</td>\n",
       "      <td>1.352639e+08</td>\n",
       "      <td>1.306876</td>\n",
       "      <td>2.672155</td>\n",
       "      <td>7.980000</td>\n",
       "      <td>374140.200000</td>\n",
       "      <td>5</td>\n",
       "      <td>314800000</td>\n",
       "      <td>307348989</td>\n",
       "      <td>676319696</td>\n",
       "    </tr>\n",
       "    <tr>\n",
       "      <th>2</th>\n",
       "      <td>Damien Chazelle</td>\n",
       "      <td>2.776667e+07</td>\n",
       "      <td>6.971012e+07</td>\n",
       "      <td>1.901747e+08</td>\n",
       "      <td>4.090436</td>\n",
       "      <td>11.626585</td>\n",
       "      <td>7.966667</td>\n",
       "      <td>390998.333333</td>\n",
       "      <td>3</td>\n",
       "      <td>83300000</td>\n",
       "      <td>209130354</td>\n",
       "      <td>570524025</td>\n",
       "    </tr>\n",
       "    <tr>\n",
       "      <th>3</th>\n",
       "      <td>David Fincher</td>\n",
       "      <td>6.366667e+07</td>\n",
       "      <td>1.224152e+08</td>\n",
       "      <td>2.776211e+08</td>\n",
       "      <td>2.104471</td>\n",
       "      <td>4.774950</td>\n",
       "      <td>7.866667</td>\n",
       "      <td>572583.333333</td>\n",
       "      <td>3</td>\n",
       "      <td>191000000</td>\n",
       "      <td>367245676</td>\n",
       "      <td>832863294</td>\n",
       "    </tr>\n",
       "    <tr>\n",
       "      <th>4</th>\n",
       "      <td>Alejandro G. Iñárritu</td>\n",
       "      <td>6.266667e+07</td>\n",
       "      <td>7.702658e+07</td>\n",
       "      <td>2.202803e+08</td>\n",
       "      <td>1.286095</td>\n",
       "      <td>3.462407</td>\n",
       "      <td>7.733333</td>\n",
       "      <td>406997.333333</td>\n",
       "      <td>3</td>\n",
       "      <td>188000000</td>\n",
       "      <td>231079729</td>\n",
       "      <td>660840920</td>\n",
       "    </tr>\n",
       "  </tbody>\n",
       "</table>\n",
       "</div>"
      ],
      "text/plain": [
       "            primary_name  production_budget  domestic_gross  worldwide_gross  \\\n",
       "0            Dario Pleic       4.750000e+07    5.913765e+07     1.435970e+08   \n",
       "1       Denis Villeneuve       6.296000e+07    6.146980e+07     1.352639e+08   \n",
       "2        Damien Chazelle       2.776667e+07    6.971012e+07     1.901747e+08   \n",
       "3          David Fincher       6.366667e+07    1.224152e+08     2.776211e+08   \n",
       "4  Alejandro G. Iñárritu       6.266667e+07    7.702658e+07     2.202803e+08   \n",
       "\n",
       "   domestic_roi  worldwide_roi  averagerating       numvotes  count  \\\n",
       "0      0.465154      30.851850       8.400000      32.000000      3   \n",
       "1      1.306876       2.672155       7.980000  374140.200000      5   \n",
       "2      4.090436      11.626585       7.966667  390998.333333      3   \n",
       "3      2.104471       4.774950       7.866667  572583.333333      3   \n",
       "4      1.286095       3.462407       7.733333  406997.333333      3   \n",
       "\n",
       "   total_production_budget  total_domestic_gross  total_worldwide_gross  \n",
       "0                142500000             177412943              430791064  \n",
       "1                314800000             307348989              676319696  \n",
       "2                 83300000             209130354              570524025  \n",
       "3                191000000             367245676              832863294  \n",
       "4                188000000             231079729              660840920  "
      ]
     },
     "execution_count": 20,
     "metadata": {},
     "output_type": "execute_result"
    }
   ],
   "source": [
    "# reset index\n",
    "experienced_directors_sorted = experienced_directors_sorted.reset_index()\n",
    "experienced_directors_sorted.head()"
   ]
  },
  {
   "cell_type": "markdown",
   "metadata": {},
   "source": [
    "### Director Visualizations\n",
    "\n",
    "plot the average director domestic ROI, average directory rating, and average director produciton budget"
   ]
  },
  {
   "cell_type": "code",
   "execution_count": 21,
   "metadata": {
    "scrolled": false
   },
   "outputs": [
    {
     "data": {
      "image/png": "[encoded data removed]",
      "text/plain": [
       "<Figure size 1080x864 with 3 Axes>"
      ]
     },
     "metadata": {
      "needs_background": "light"
     },
     "output_type": "display_data"
    }
   ],
   "source": [
    "# plot stats per month\n",
    "fig, axes = plt.subplots(1, 3, figsize=(15, 12))\n",
    "\n",
    "# number of movies released per month\n",
    "sns.barplot(ax = axes[0], data=experienced_directors_sorted, y=\"primary_name\", x=\"domestic_roi\")\n",
    "axes[0].set_title('Director Domestic ROI')\n",
    "\n",
    "# average ROI of movies released per month\n",
    "sns.barplot(ax = axes[1], data=experienced_directors_sorted, y=\"primary_name\", x=\"averagerating\")\n",
    "axes[1].set_title('Average Director Rating')\n",
    "\n",
    "# total domestic gross per month\n",
    "sns.barplot(ax = axes[2], data=experienced_directors_sorted, y=\"primary_name\", x=\"total_production_budget\")\n",
    "axes[2].set_title('Director Production Budget')\n",
    "\n",
    "plt.show()"
   ]
  },
  {
   "cell_type": "markdown",
   "metadata": {},
   "source": [
    "Damien Chazelle, Ryan Coogler, Christopher Miller & Phil Lord, and James Wan all stand out as directors that are well known, make good movies, and have a high ROI. "
   ]
  },
  {
   "cell_type": "markdown",
   "metadata": {},
   "source": [
    "## Director Freshness Ratings\n",
    "\n",
    "Get the average Rotten Tomatoes rating for directors with more than 2 movie credits"
   ]
  },
  {
   "cell_type": "code",
   "execution_count": 22,
   "metadata": {
    "scrolled": false
   },
   "outputs": [
    {
     "name": "stdout",
     "output_type": "stream",
     "text": [
      "<class 'pandas.core.frame.DataFrame'>\n",
      "Int64Index: 1114 entries, 0 to 1113\n",
      "Data columns (total 11 columns):\n",
      " #   Column        Non-Null Count  Dtype  \n",
      "---  ------        --------------  -----  \n",
      " 0   id            1114 non-null   int64  \n",
      " 1   rating        1114 non-null   object \n",
      " 2   genre         1114 non-null   object \n",
      " 3   director      997 non-null    object \n",
      " 4   theater_date  986 non-null    object \n",
      " 5   box_office    299 non-null    float64\n",
      " 6   studio        412 non-null    object \n",
      " 7   top_critic    1114 non-null   float64\n",
      " 8   fresh_rating  1114 non-null   float64\n",
      " 9   year          1114 non-null   int64  \n",
      " 10  n_reviews     1114 non-null   int64  \n",
      "dtypes: float64(3), int64(3), object(5)\n",
      "memory usage: 104.4+ KB\n"
     ]
    }
   ],
   "source": [
    "# obtain the average fresh rating for each movie in the rotten tomatoes db, as well as the number of reviews\n",
    "avg_fresh_rating_df = reviews.groupby('id').mean()\n",
    "sum_fresh_rating_df = reviews.groupby('id').count()\n",
    "avg_fresh_rating_df['n_reviews'] = sum_fresh_rating_df['fresh_rating']\n",
    "avg_fresh_rating_df['year'] = avg_fresh_rating_df['year'].astype(int)\n",
    "\n",
    "# combine the freshness rating with the rotten tomatoes movie info db\n",
    "rt_movie_fresh_df = movie_info.merge(avg_fresh_rating_df, left_on='id', right_on='id')\n",
    "rt_movie_fresh_df.info()"
   ]
  },
  {
   "cell_type": "code",
   "execution_count": 23,
   "metadata": {},
   "outputs": [
    {
     "data": {
      "text/html": [
       "<div>\n",
       "<style scoped>\n",
       "    .dataframe tbody tr th:only-of-type {\n",
       "        vertical-align: middle;\n",
       "    }\n",
       "\n",
       "    .dataframe tbody tr th {\n",
       "        vertical-align: top;\n",
       "    }\n",
       "\n",
       "    .dataframe thead th {\n",
       "        text-align: right;\n",
       "    }\n",
       "</style>\n",
       "<table border=\"1\" class=\"dataframe\">\n",
       "  <thead>\n",
       "    <tr style=\"text-align: right;\">\n",
       "      <th></th>\n",
       "      <th>id</th>\n",
       "      <th>box_office</th>\n",
       "      <th>top_critic</th>\n",
       "      <th>fresh_rating</th>\n",
       "      <th>year</th>\n",
       "      <th>n_reviews</th>\n",
       "      <th>n_movies</th>\n",
       "    </tr>\n",
       "    <tr>\n",
       "      <th>director</th>\n",
       "      <th></th>\n",
       "      <th></th>\n",
       "      <th></th>\n",
       "      <th></th>\n",
       "      <th></th>\n",
       "      <th></th>\n",
       "      <th></th>\n",
       "    </tr>\n",
       "  </thead>\n",
       "  <tbody>\n",
       "    <tr>\n",
       "      <th>Abel Ferrara</th>\n",
       "      <td>504.0</td>\n",
       "      <td>NaN</td>\n",
       "      <td>0.066667</td>\n",
       "      <td>0.300000</td>\n",
       "      <td>2003.5</td>\n",
       "      <td>10.0</td>\n",
       "      <td>2</td>\n",
       "    </tr>\n",
       "    <tr>\n",
       "      <th>Adam Ravetch|Sarah Robertson</th>\n",
       "      <td>596.0</td>\n",
       "      <td>598103.0</td>\n",
       "      <td>0.289474</td>\n",
       "      <td>0.644737</td>\n",
       "      <td>2007.0</td>\n",
       "      <td>76.0</td>\n",
       "      <td>1</td>\n",
       "    </tr>\n",
       "    <tr>\n",
       "      <th>Adam Shankman</th>\n",
       "      <td>491.0</td>\n",
       "      <td>82468131.0</td>\n",
       "      <td>0.272727</td>\n",
       "      <td>0.054545</td>\n",
       "      <td>2005.0</td>\n",
       "      <td>55.0</td>\n",
       "      <td>1</td>\n",
       "    </tr>\n",
       "    <tr>\n",
       "      <th>Adrian Lyne</th>\n",
       "      <td>958.0</td>\n",
       "      <td>NaN</td>\n",
       "      <td>0.148579</td>\n",
       "      <td>0.541021</td>\n",
       "      <td>2004.5</td>\n",
       "      <td>39.5</td>\n",
       "      <td>2</td>\n",
       "    </tr>\n",
       "    <tr>\n",
       "      <th>Akira Kurosawa</th>\n",
       "      <td>1703.0</td>\n",
       "      <td>NaN</td>\n",
       "      <td>0.157895</td>\n",
       "      <td>0.894737</td>\n",
       "      <td>2005.0</td>\n",
       "      <td>19.0</td>\n",
       "      <td>1</td>\n",
       "    </tr>\n",
       "    <tr>\n",
       "      <th>...</th>\n",
       "      <td>...</td>\n",
       "      <td>...</td>\n",
       "      <td>...</td>\n",
       "      <td>...</td>\n",
       "      <td>...</td>\n",
       "      <td>...</td>\n",
       "      <td>...</td>\n",
       "    </tr>\n",
       "    <tr>\n",
       "      <th>Yoav Shamir</th>\n",
       "      <td>1508.0</td>\n",
       "      <td>NaN</td>\n",
       "      <td>0.500000</td>\n",
       "      <td>0.857143</td>\n",
       "      <td>2009.0</td>\n",
       "      <td>14.0</td>\n",
       "      <td>1</td>\n",
       "    </tr>\n",
       "    <tr>\n",
       "      <th>Yoji Yamada</th>\n",
       "      <td>781.0</td>\n",
       "      <td>NaN</td>\n",
       "      <td>0.187500</td>\n",
       "      <td>0.812500</td>\n",
       "      <td>2008.0</td>\n",
       "      <td>16.0</td>\n",
       "      <td>1</td>\n",
       "    </tr>\n",
       "    <tr>\n",
       "      <th>Youssef Delara</th>\n",
       "      <td>1334.0</td>\n",
       "      <td>320676.0</td>\n",
       "      <td>0.000000</td>\n",
       "      <td>0.666667</td>\n",
       "      <td>2016.0</td>\n",
       "      <td>3.0</td>\n",
       "      <td>1</td>\n",
       "    </tr>\n",
       "    <tr>\n",
       "      <th>Yves Simoneau</th>\n",
       "      <td>694.0</td>\n",
       "      <td>NaN</td>\n",
       "      <td>0.000000</td>\n",
       "      <td>0.333333</td>\n",
       "      <td>2003.0</td>\n",
       "      <td>6.0</td>\n",
       "      <td>1</td>\n",
       "    </tr>\n",
       "    <tr>\n",
       "      <th>Zeresenay Berhane Mehari</th>\n",
       "      <td>1459.0</td>\n",
       "      <td>NaN</td>\n",
       "      <td>0.277778</td>\n",
       "      <td>0.888889</td>\n",
       "      <td>2015.0</td>\n",
       "      <td>18.0</td>\n",
       "      <td>1</td>\n",
       "    </tr>\n",
       "  </tbody>\n",
       "</table>\n",
       "<p>829 rows × 7 columns</p>\n",
       "</div>"
      ],
      "text/plain": [
       "                                  id  box_office  top_critic  fresh_rating  \\\n",
       "director                                                                     \n",
       "Abel Ferrara                   504.0         NaN    0.066667      0.300000   \n",
       "Adam Ravetch|Sarah Robertson   596.0    598103.0    0.289474      0.644737   \n",
       "Adam Shankman                  491.0  82468131.0    0.272727      0.054545   \n",
       "Adrian Lyne                    958.0         NaN    0.148579      0.541021   \n",
       "Akira Kurosawa                1703.0         NaN    0.157895      0.894737   \n",
       "...                              ...         ...         ...           ...   \n",
       "Yoav Shamir                   1508.0         NaN    0.500000      0.857143   \n",
       "Yoji Yamada                    781.0         NaN    0.187500      0.812500   \n",
       "Youssef Delara                1334.0    320676.0    0.000000      0.666667   \n",
       "Yves Simoneau                  694.0         NaN    0.000000      0.333333   \n",
       "Zeresenay Berhane Mehari      1459.0         NaN    0.277778      0.888889   \n",
       "\n",
       "                                year  n_reviews  n_movies  \n",
       "director                                                   \n",
       "Abel Ferrara                  2003.5       10.0         2  \n",
       "Adam Ravetch|Sarah Robertson  2007.0       76.0         1  \n",
       "Adam Shankman                 2005.0       55.0         1  \n",
       "Adrian Lyne                   2004.5       39.5         2  \n",
       "Akira Kurosawa                2005.0       19.0         1  \n",
       "...                              ...        ...       ...  \n",
       "Yoav Shamir                   2009.0       14.0         1  \n",
       "Yoji Yamada                   2008.0       16.0         1  \n",
       "Youssef Delara                2016.0        3.0         1  \n",
       "Yves Simoneau                 2003.0        6.0         1  \n",
       "Zeresenay Berhane Mehari      2015.0       18.0         1  \n",
       "\n",
       "[829 rows x 7 columns]"
      ]
     },
     "execution_count": 23,
     "metadata": {},
     "output_type": "execute_result"
    }
   ],
   "source": [
    "# group by directors to get the average freshness rating for each director\n",
    "fresh_directors = rt_movie_fresh_df.groupby('director').mean()\n",
    "sum_fresh_directors = rt_movie_fresh_df.groupby('director').count()\n",
    "fresh_directors['n_movies'] = sum_fresh_directors['fresh_rating']\n",
    "fresh_directors"
   ]
  },
  {
   "cell_type": "code",
   "execution_count": 24,
   "metadata": {},
   "outputs": [],
   "source": [
    "# filter out directors with less than 3 movies\n",
    "fresh_experienced_directors = fresh_directors[(fresh_directors['n_movies'] > 2)]\n",
    "\n",
    "# sort by number of reviews\n",
    "fresh_experienced_directors_sorted_by_n = fresh_experienced_directors.sort_values(by='fresh_rating', axis=0, ascending=False)\n",
    "fresh_experienced_directors_sorted_by_n\n",
    "\n",
    "# reset the index\n",
    "fresh_experienced_directors_sorted_by_n = fresh_experienced_directors_sorted_by_n.reset_index()\n"
   ]
  },
  {
   "cell_type": "markdown",
   "metadata": {},
   "source": [
    "### Director Visualizations 2\n",
    "\n",
    "plot the freshness rating for the directors in the rotten tomatoe database with more than 2 movie credits"
   ]
  },
  {
   "cell_type": "code",
   "execution_count": 25,
   "metadata": {},
   "outputs": [
    {
     "data": {
      "text/plain": [
       "Text(0.5, 1.0, 'Director Freshness Rating')"
      ]
     },
     "execution_count": 25,
     "metadata": {},
     "output_type": "execute_result"
    },
    {
     "data": {
      "image/png": "[encoded data removed]",
      "text/plain": [
       "<Figure size 1080x864 with 1 Axes>"
      ]
     },
     "metadata": {
      "needs_background": "light"
     },
     "output_type": "display_data"
    }
   ],
   "source": [
    "# plot stats per month\n",
    "fig, axes = plt.subplots(figsize=(15, 12))\n",
    "\n",
    "# number of movies released per month\n",
    "sns.barplot(data=fresh_experienced_directors_sorted_by_n, y=\"director\", x=\"fresh_rating\")\n",
    "axes.set_title('Director Freshness Rating')"
   ]
  },
  {
   "cell_type": "markdown",
   "metadata": {},
   "source": [
    "# Linear Regression"
   ]
  },
  {
   "cell_type": "markdown",
   "metadata": {},
   "source": [
    "The goal is to find genres increasing in popularity\n",
    "\n",
    "null hypothesis: the change in domestic gross earnings is not correlated to the year\n",
    "\n",
    "alternate hypothesis: the change in domestic gross earnings is correlated to the year (increasing or decreasing in popularity)\n",
    "\n",
    "\n",
    "The following linear regressions are for the genres that show the most likelyhood to increase in popularity: \n",
    "    \n",
    "    - Sci-Fi\n",
    "    - Aciton\n",
    "    - Fantasy\n",
    "    - Musical\n",
    "    - Sport\n",
    "    \n",
    "Linear regressions for genres that show the most lieklyhood to decrease in popularity are also shown: \n",
    "\n",
    "    - War\n",
    "    - Horror\n",
    "    - Drama"
   ]
  },
  {
   "cell_type": "markdown",
   "metadata": {},
   "source": [
    "Create a function to perform the linear regression for a specific genre name and produce the visualizations."
   ]
  },
  {
   "cell_type": "code",
   "execution_count": 26,
   "metadata": {},
   "outputs": [],
   "source": [
    "def lin_reg(genre_name):\n",
    "    \n",
    "    # isolate the data for the genre specified\n",
    "    genre = split_genres[split_genres['genres'] == genre_name]\n",
    "    genre = genre[genre['release_year'] >= 1990]\n",
    "    genre_year = genre.groupby('release_year', as_index=False).mean()\n",
    "    genre_year_sum = genre.groupby('release_year').sum()\n",
    "    genre_year['count'] = genre_year_sum['count']\n",
    "    \n",
    "    # manual calculations\n",
    "    rho = np.corrcoef(genre_year['release_year'], genre_year['domestic_gross'])[0][1]\n",
    "    s_y = genre_year['domestic_gross'].std()\n",
    "    s_x = genre_year['release_year'].std()\n",
    "    m = rho * s_y / s_x\n",
    "\n",
    "    mean_y = genre_year['domestic_gross'].mean()\n",
    "    mean_x = genre_year['release_year'].mean()\n",
    "    c = mean_y - m * mean_x\n",
    "\n",
    "    print(f\"Our regression line is: y = {round(m, 5)}x + {round(c, 5)}\")\n",
    "\n",
    "    # regression with statsmodels\n",
    "    model = sm.OLS(endog=genre_year.domestic_gross, exog=sm.add_constant(genre_year.release_year))\n",
    "    results = model.fit()\n",
    "\n",
    "    # plot results\n",
    "    fig, axes = plt.subplots(1, 2, figsize=(15, 5))\n",
    "    \n",
    "    sns.regplot(x='release_year', y='domestic_gross', data=genre_year, ax=axes[0])\n",
    "    axes[0].set_title(f'{genre_name} Domestic Growth Linear Regression')\n",
    "\n",
    "    sm.graphics.qqplot(results.resid, dist=stats.norm, line='45', fit=True, ax=axes[1])\n",
    "    axes[1].set_title('residuals')\n",
    "\n",
    "    plt.show()\n",
    "    \n",
    "    return results\n"
   ]
  },
  {
   "cell_type": "markdown",
   "metadata": {},
   "source": [
    "## Sci-Fi Domestic Gross"
   ]
  },
  {
   "cell_type": "code",
   "execution_count": 27,
   "metadata": {
    "scrolled": false
   },
   "outputs": [
    {
     "name": "stdout",
     "output_type": "stream",
     "text": [
      "Our regression line is: y = 4619352.75155x + -9213369324.60271\n"
     ]
    },
    {
     "data": {
      "image/png": "[encoded data removed]",
      "text/plain": [
       "<Figure size 1080x360 with 2 Axes>"
      ]
     },
     "metadata": {
      "needs_background": "light"
     },
     "output_type": "display_data"
    },
    {
     "data": {
      "text/html": [
       "<table class=\"simpletable\">\n",
       "<caption>OLS Regression Results</caption>\n",
       "<tr>\n",
       "  <th>Dep. Variable:</th>     <td>domestic_gross</td>  <th>  R-squared:         </th> <td>   0.541</td>\n",
       "</tr>\n",
       "<tr>\n",
       "  <th>Model:</th>                   <td>OLS</td>       <th>  Adj. R-squared:    </th> <td>   0.518</td>\n",
       "</tr>\n",
       "<tr>\n",
       "  <th>Method:</th>             <td>Least Squares</td>  <th>  F-statistic:       </th> <td>   23.56</td>\n",
       "</tr>\n",
       "<tr>\n",
       "  <th>Date:</th>             <td>Mon, 25 Sep 2023</td> <th>  Prob (F-statistic):</th> <td>9.62e-05</td>\n",
       "</tr>\n",
       "<tr>\n",
       "  <th>Time:</th>                 <td>14:40:00</td>     <th>  Log-Likelihood:    </th> <td> -412.09</td>\n",
       "</tr>\n",
       "<tr>\n",
       "  <th>No. Observations:</th>      <td>    22</td>      <th>  AIC:               </th> <td>   828.2</td>\n",
       "</tr>\n",
       "<tr>\n",
       "  <th>Df Residuals:</th>          <td>    20</td>      <th>  BIC:               </th> <td>   830.4</td>\n",
       "</tr>\n",
       "<tr>\n",
       "  <th>Df Model:</th>              <td>     1</td>      <th>                     </th>     <td> </td>   \n",
       "</tr>\n",
       "<tr>\n",
       "  <th>Covariance Type:</th>      <td>nonrobust</td>    <th>                     </th>     <td> </td>   \n",
       "</tr>\n",
       "</table>\n",
       "<table class=\"simpletable\">\n",
       "<tr>\n",
       "        <td></td>          <th>coef</th>     <th>std err</th>      <th>t</th>      <th>P>|t|</th>  <th>[0.025</th>    <th>0.975]</th>  \n",
       "</tr>\n",
       "<tr>\n",
       "  <th>const</th>        <td>-9.213e+09</td> <td> 1.91e+09</td> <td>   -4.823</td> <td> 0.000</td> <td>-1.32e+10</td> <td>-5.23e+09</td>\n",
       "</tr>\n",
       "<tr>\n",
       "  <th>release_year</th> <td> 4.619e+06</td> <td> 9.52e+05</td> <td>    4.854</td> <td> 0.000</td> <td> 2.63e+06</td> <td>  6.6e+06</td>\n",
       "</tr>\n",
       "</table>\n",
       "<table class=\"simpletable\">\n",
       "<tr>\n",
       "  <th>Omnibus:</th>       <td> 0.241</td> <th>  Durbin-Watson:     </th> <td>   1.725</td>\n",
       "</tr>\n",
       "<tr>\n",
       "  <th>Prob(Omnibus):</th> <td> 0.887</td> <th>  Jarque-Bera (JB):  </th> <td>   0.433</td>\n",
       "</tr>\n",
       "<tr>\n",
       "  <th>Skew:</th>          <td> 0.032</td> <th>  Prob(JB):          </th> <td>   0.806</td>\n",
       "</tr>\n",
       "<tr>\n",
       "  <th>Kurtosis:</th>      <td> 2.316</td> <th>  Cond. No.          </th> <td>5.20e+05</td>\n",
       "</tr>\n",
       "</table><br/><br/>Notes:<br/>[1] Standard Errors assume that the covariance matrix of the errors is correctly specified.<br/>[2] The condition number is large, 5.2e+05. This might indicate that there are<br/>strong multicollinearity or other numerical problems."
      ],
      "text/plain": [
       "<class 'statsmodels.iolib.summary.Summary'>\n",
       "\"\"\"\n",
       "                            OLS Regression Results                            \n",
       "==============================================================================\n",
       "Dep. Variable:         domestic_gross   R-squared:                       0.541\n",
       "Model:                            OLS   Adj. R-squared:                  0.518\n",
       "Method:                 Least Squares   F-statistic:                     23.56\n",
       "Date:                Mon, 25 Sep 2023   Prob (F-statistic):           9.62e-05\n",
       "Time:                        14:40:00   Log-Likelihood:                -412.09\n",
       "No. Observations:                  22   AIC:                             828.2\n",
       "Df Residuals:                      20   BIC:                             830.4\n",
       "Df Model:                           1                                         \n",
       "Covariance Type:            nonrobust                                         \n",
       "================================================================================\n",
       "                   coef    std err          t      P>|t|      [0.025      0.975]\n",
       "--------------------------------------------------------------------------------\n",
       "const        -9.213e+09   1.91e+09     -4.823      0.000   -1.32e+10   -5.23e+09\n",
       "release_year  4.619e+06   9.52e+05      4.854      0.000    2.63e+06     6.6e+06\n",
       "==============================================================================\n",
       "Omnibus:                        0.241   Durbin-Watson:                   1.725\n",
       "Prob(Omnibus):                  0.887   Jarque-Bera (JB):                0.433\n",
       "Skew:                           0.032   Prob(JB):                        0.806\n",
       "Kurtosis:                       2.316   Cond. No.                     5.20e+05\n",
       "==============================================================================\n",
       "\n",
       "Notes:\n",
       "[1] Standard Errors assume that the covariance matrix of the errors is correctly specified.\n",
       "[2] The condition number is large, 5.2e+05. This might indicate that there are\n",
       "strong multicollinearity or other numerical problems.\n",
       "\"\"\""
      ]
     },
     "execution_count": 27,
     "metadata": {},
     "output_type": "execute_result"
    }
   ],
   "source": [
    "sci_fi_results = lin_reg('Sci-Fi')\n",
    "sci_fi_results.summary()"
   ]
  },
  {
   "cell_type": "markdown",
   "metadata": {},
   "source": [
    "### Interpretation: \n",
    "\n",
    "    P: <<0.05 - statistically significant\n",
    "    Coef: 4.619e+06 increase per year\n",
    "    R2: 54% of variation is due to the year\n",
    "    F-stat: 23.56"
   ]
  },
  {
   "cell_type": "markdown",
   "metadata": {},
   "source": [
    "Based on box office trends over the last 30 years, the Sci-Fi genre is expected to experience growth in earnings. There has been a steady increase in box office earnings for the genre that can be attributed to the year it was released. Based on these trends, The Sci-Fi genere is expected to grow every year, with the average domestic gross for projected to increase by about $4.6M per year. "
   ]
  },
  {
   "cell_type": "markdown",
   "metadata": {},
   "source": [
    "## Action - Domestic Gross"
   ]
  },
  {
   "cell_type": "code",
   "execution_count": 28,
   "metadata": {
    "scrolled": false
   },
   "outputs": [
    {
     "name": "stdout",
     "output_type": "stream",
     "text": [
      "Our regression line is: y = 2602537.69892x + -5167241401.43695\n"
     ]
    },
    {
     "data": {
      "image/png": "[encoded data removed]",
      "text/plain": [
       "<Figure size 1080x360 with 2 Axes>"
      ]
     },
     "metadata": {
      "needs_background": "light"
     },
     "output_type": "display_data"
    },
    {
     "data": {
      "text/html": [
       "<table class=\"simpletable\">\n",
       "<caption>OLS Regression Results</caption>\n",
       "<tr>\n",
       "  <th>Dep. Variable:</th>     <td>domestic_gross</td>  <th>  R-squared:         </th> <td>   0.472</td>\n",
       "</tr>\n",
       "<tr>\n",
       "  <th>Model:</th>                   <td>OLS</td>       <th>  Adj. R-squared:    </th> <td>   0.452</td>\n",
       "</tr>\n",
       "<tr>\n",
       "  <th>Method:</th>             <td>Least Squares</td>  <th>  F-statistic:       </th> <td>   23.27</td>\n",
       "</tr>\n",
       "<tr>\n",
       "  <th>Date:</th>             <td>Mon, 25 Sep 2023</td> <th>  Prob (F-statistic):</th> <td>5.35e-05</td>\n",
       "</tr>\n",
       "<tr>\n",
       "  <th>Time:</th>                 <td>14:40:03</td>     <th>  Log-Likelihood:    </th> <td> -514.02</td>\n",
       "</tr>\n",
       "<tr>\n",
       "  <th>No. Observations:</th>      <td>    28</td>      <th>  AIC:               </th> <td>   1032.</td>\n",
       "</tr>\n",
       "<tr>\n",
       "  <th>Df Residuals:</th>          <td>    26</td>      <th>  BIC:               </th> <td>   1035.</td>\n",
       "</tr>\n",
       "<tr>\n",
       "  <th>Df Model:</th>              <td>     1</td>      <th>                     </th>     <td> </td>   \n",
       "</tr>\n",
       "<tr>\n",
       "  <th>Covariance Type:</th>      <td>nonrobust</td>    <th>                     </th>     <td> </td>   \n",
       "</tr>\n",
       "</table>\n",
       "<table class=\"simpletable\">\n",
       "<tr>\n",
       "        <td></td>          <th>coef</th>     <th>std err</th>      <th>t</th>      <th>P>|t|</th>  <th>[0.025</th>    <th>0.975]</th>  \n",
       "</tr>\n",
       "<tr>\n",
       "  <th>const</th>        <td>-5.167e+09</td> <td> 1.08e+09</td> <td>   -4.776</td> <td> 0.000</td> <td>-7.39e+09</td> <td>-2.94e+09</td>\n",
       "</tr>\n",
       "<tr>\n",
       "  <th>release_year</th> <td> 2.603e+06</td> <td>  5.4e+05</td> <td>    4.824</td> <td> 0.000</td> <td> 1.49e+06</td> <td> 3.71e+06</td>\n",
       "</tr>\n",
       "</table>\n",
       "<table class=\"simpletable\">\n",
       "<tr>\n",
       "  <th>Omnibus:</th>       <td> 0.266</td> <th>  Durbin-Watson:     </th> <td>   2.087</td>\n",
       "</tr>\n",
       "<tr>\n",
       "  <th>Prob(Omnibus):</th> <td> 0.875</td> <th>  Jarque-Bera (JB):  </th> <td>   0.454</td>\n",
       "</tr>\n",
       "<tr>\n",
       "  <th>Skew:</th>          <td> 0.116</td> <th>  Prob(JB):          </th> <td>   0.797</td>\n",
       "</tr>\n",
       "<tr>\n",
       "  <th>Kurtosis:</th>      <td> 2.420</td> <th>  Cond. No.          </th> <td>4.87e+05</td>\n",
       "</tr>\n",
       "</table><br/><br/>Notes:<br/>[1] Standard Errors assume that the covariance matrix of the errors is correctly specified.<br/>[2] The condition number is large, 4.87e+05. This might indicate that there are<br/>strong multicollinearity or other numerical problems."
      ],
      "text/plain": [
       "<class 'statsmodels.iolib.summary.Summary'>\n",
       "\"\"\"\n",
       "                            OLS Regression Results                            \n",
       "==============================================================================\n",
       "Dep. Variable:         domestic_gross   R-squared:                       0.472\n",
       "Model:                            OLS   Adj. R-squared:                  0.452\n",
       "Method:                 Least Squares   F-statistic:                     23.27\n",
       "Date:                Mon, 25 Sep 2023   Prob (F-statistic):           5.35e-05\n",
       "Time:                        14:40:03   Log-Likelihood:                -514.02\n",
       "No. Observations:                  28   AIC:                             1032.\n",
       "Df Residuals:                      26   BIC:                             1035.\n",
       "Df Model:                           1                                         \n",
       "Covariance Type:            nonrobust                                         \n",
       "================================================================================\n",
       "                   coef    std err          t      P>|t|      [0.025      0.975]\n",
       "--------------------------------------------------------------------------------\n",
       "const        -5.167e+09   1.08e+09     -4.776      0.000   -7.39e+09   -2.94e+09\n",
       "release_year  2.603e+06    5.4e+05      4.824      0.000    1.49e+06    3.71e+06\n",
       "==============================================================================\n",
       "Omnibus:                        0.266   Durbin-Watson:                   2.087\n",
       "Prob(Omnibus):                  0.875   Jarque-Bera (JB):                0.454\n",
       "Skew:                           0.116   Prob(JB):                        0.797\n",
       "Kurtosis:                       2.420   Cond. No.                     4.87e+05\n",
       "==============================================================================\n",
       "\n",
       "Notes:\n",
       "[1] Standard Errors assume that the covariance matrix of the errors is correctly specified.\n",
       "[2] The condition number is large, 4.87e+05. This might indicate that there are\n",
       "strong multicollinearity or other numerical problems.\n",
       "\"\"\""
      ]
     },
     "execution_count": 28,
     "metadata": {},
     "output_type": "execute_result"
    }
   ],
   "source": [
    "action_results = lin_reg('Action')\n",
    "action_results.summary()"
   ]
  },
  {
   "cell_type": "markdown",
   "metadata": {},
   "source": [
    "### Interpretation: \n",
    "\n",
    "    P: <<0.05 - statistically significant\n",
    "    Coef: 2.603e+06 increase per year\n",
    "    R2: 47% of variation is due to the year\n",
    "    F-stat: 23.27"
   ]
  },
  {
   "cell_type": "markdown",
   "metadata": {},
   "source": [
    "Based on box office trends over the last 30 years, the Action genre is expected to experience growth in earnings. There has been a steady increase in box office earnings for the genre that can be largely attributed to the year it was released. Based on these trends, The Sci-Fi genere is expected to grow every year, with the average domestic gross for projected to increase by about $2.6M per year. "
   ]
  },
  {
   "cell_type": "markdown",
   "metadata": {},
   "source": [
    "## Fantasy Domestic Gross"
   ]
  },
  {
   "cell_type": "code",
   "execution_count": 29,
   "metadata": {
    "scrolled": false
   },
   "outputs": [
    {
     "name": "stdout",
     "output_type": "stream",
     "text": [
      "Our regression line is: y = 3146972.30881x + -6271392442.53548\n"
     ]
    },
    {
     "data": {
      "image/png": "[encoded data removed]",
      "text/plain": [
       "<Figure size 1080x360 with 2 Axes>"
      ]
     },
     "metadata": {
      "needs_background": "light"
     },
     "output_type": "display_data"
    },
    {
     "name": "stderr",
     "output_type": "stream",
     "text": [
      "/Users/abigailcampbell/anaconda3/envs/learn-env/lib/python3.8/site-packages/scipy/stats/stats.py:1603: UserWarning: kurtosistest only valid for n>=20 ... continuing anyway, n=19\n",
      "  warnings.warn(\"kurtosistest only valid for n>=20 ... continuing \"\n"
     ]
    },
    {
     "data": {
      "text/html": [
       "<table class=\"simpletable\">\n",
       "<caption>OLS Regression Results</caption>\n",
       "<tr>\n",
       "  <th>Dep. Variable:</th>     <td>domestic_gross</td>  <th>  R-squared:         </th> <td>   0.302</td>\n",
       "</tr>\n",
       "<tr>\n",
       "  <th>Model:</th>                   <td>OLS</td>       <th>  Adj. R-squared:    </th> <td>   0.261</td>\n",
       "</tr>\n",
       "<tr>\n",
       "  <th>Method:</th>             <td>Least Squares</td>  <th>  F-statistic:       </th> <td>   7.358</td>\n",
       "</tr>\n",
       "<tr>\n",
       "  <th>Date:</th>             <td>Mon, 25 Sep 2023</td> <th>  Prob (F-statistic):</th>  <td>0.0148</td> \n",
       "</tr>\n",
       "<tr>\n",
       "  <th>Time:</th>                 <td>14:40:07</td>     <th>  Log-Likelihood:    </th> <td> -355.01</td>\n",
       "</tr>\n",
       "<tr>\n",
       "  <th>No. Observations:</th>      <td>    19</td>      <th>  AIC:               </th> <td>   714.0</td>\n",
       "</tr>\n",
       "<tr>\n",
       "  <th>Df Residuals:</th>          <td>    17</td>      <th>  BIC:               </th> <td>   715.9</td>\n",
       "</tr>\n",
       "<tr>\n",
       "  <th>Df Model:</th>              <td>     1</td>      <th>                     </th>     <td> </td>   \n",
       "</tr>\n",
       "<tr>\n",
       "  <th>Covariance Type:</th>      <td>nonrobust</td>    <th>                     </th>     <td> </td>   \n",
       "</tr>\n",
       "</table>\n",
       "<table class=\"simpletable\">\n",
       "<tr>\n",
       "        <td></td>          <th>coef</th>     <th>std err</th>      <th>t</th>      <th>P>|t|</th>  <th>[0.025</th>    <th>0.975]</th>  \n",
       "</tr>\n",
       "<tr>\n",
       "  <th>const</th>        <td>-6.271e+09</td> <td> 2.33e+09</td> <td>   -2.690</td> <td> 0.015</td> <td>-1.12e+10</td> <td>-1.35e+09</td>\n",
       "</tr>\n",
       "<tr>\n",
       "  <th>release_year</th> <td> 3.147e+06</td> <td> 1.16e+06</td> <td>    2.713</td> <td> 0.015</td> <td> 6.99e+05</td> <td> 5.59e+06</td>\n",
       "</tr>\n",
       "</table>\n",
       "<table class=\"simpletable\">\n",
       "<tr>\n",
       "  <th>Omnibus:</th>       <td> 0.565</td> <th>  Durbin-Watson:     </th> <td>   1.679</td>\n",
       "</tr>\n",
       "<tr>\n",
       "  <th>Prob(Omnibus):</th> <td> 0.754</td> <th>  Jarque-Bera (JB):  </th> <td>   0.553</td>\n",
       "</tr>\n",
       "<tr>\n",
       "  <th>Skew:</th>          <td> 0.344</td> <th>  Prob(JB):          </th> <td>   0.758</td>\n",
       "</tr>\n",
       "<tr>\n",
       "  <th>Kurtosis:</th>      <td> 2.526</td> <th>  Cond. No.          </th> <td>6.13e+05</td>\n",
       "</tr>\n",
       "</table><br/><br/>Notes:<br/>[1] Standard Errors assume that the covariance matrix of the errors is correctly specified.<br/>[2] The condition number is large, 6.13e+05. This might indicate that there are<br/>strong multicollinearity or other numerical problems."
      ],
      "text/plain": [
       "<class 'statsmodels.iolib.summary.Summary'>\n",
       "\"\"\"\n",
       "                            OLS Regression Results                            \n",
       "==============================================================================\n",
       "Dep. Variable:         domestic_gross   R-squared:                       0.302\n",
       "Model:                            OLS   Adj. R-squared:                  0.261\n",
       "Method:                 Least Squares   F-statistic:                     7.358\n",
       "Date:                Mon, 25 Sep 2023   Prob (F-statistic):             0.0148\n",
       "Time:                        14:40:07   Log-Likelihood:                -355.01\n",
       "No. Observations:                  19   AIC:                             714.0\n",
       "Df Residuals:                      17   BIC:                             715.9\n",
       "Df Model:                           1                                         \n",
       "Covariance Type:            nonrobust                                         \n",
       "================================================================================\n",
       "                   coef    std err          t      P>|t|      [0.025      0.975]\n",
       "--------------------------------------------------------------------------------\n",
       "const        -6.271e+09   2.33e+09     -2.690      0.015   -1.12e+10   -1.35e+09\n",
       "release_year  3.147e+06   1.16e+06      2.713      0.015    6.99e+05    5.59e+06\n",
       "==============================================================================\n",
       "Omnibus:                        0.565   Durbin-Watson:                   1.679\n",
       "Prob(Omnibus):                  0.754   Jarque-Bera (JB):                0.553\n",
       "Skew:                           0.344   Prob(JB):                        0.758\n",
       "Kurtosis:                       2.526   Cond. No.                     6.13e+05\n",
       "==============================================================================\n",
       "\n",
       "Notes:\n",
       "[1] Standard Errors assume that the covariance matrix of the errors is correctly specified.\n",
       "[2] The condition number is large, 6.13e+05. This might indicate that there are\n",
       "strong multicollinearity or other numerical problems.\n",
       "\"\"\""
      ]
     },
     "execution_count": 29,
     "metadata": {},
     "output_type": "execute_result"
    }
   ],
   "source": [
    "fantasy_results = lin_reg('Fantasy')\n",
    "fantasy_results.summary()"
   ]
  },
  {
   "cell_type": "markdown",
   "metadata": {},
   "source": [
    "### Interpretation: \n",
    "\n",
    "    P: 0.015 - statistically significant (though barely)\n",
    "    Coef: 3.147e+06 increase per year\n",
    "    R2: 30% of variation is due to the year\n",
    "    F-stat: 7.36"
   ]
  },
  {
   "cell_type": "markdown",
   "metadata": {},
   "source": [
    "Based on box office trends over the last 30 years, the Fantasy genre may experience growth in earnings. There has been an increase in box office earnings for the genre, however there is slightly less confidance that these increases can be attributed to the releae year. However, should the Sci-Fi genere follow this trend, it's box office earnings could increase by about $3.2M per year. "
   ]
  },
  {
   "cell_type": "markdown",
   "metadata": {},
   "source": [
    "## Musical Domestic Gross"
   ]
  },
  {
   "cell_type": "code",
   "execution_count": 30,
   "metadata": {
    "scrolled": false
   },
   "outputs": [
    {
     "name": "stdout",
     "output_type": "stream",
     "text": [
      "Our regression line is: y = 9469200.52815x + -18978983944.94619\n"
     ]
    },
    {
     "data": {
      "image/png": "[encoded data removed]",
      "text/plain": [
       "<Figure size 1080x360 with 2 Axes>"
      ]
     },
     "metadata": {
      "needs_background": "light"
     },
     "output_type": "display_data"
    },
    {
     "name": "stderr",
     "output_type": "stream",
     "text": [
      "/Users/abigailcampbell/anaconda3/envs/learn-env/lib/python3.8/site-packages/scipy/stats/stats.py:1603: UserWarning: kurtosistest only valid for n>=20 ... continuing anyway, n=9\n",
      "  warnings.warn(\"kurtosistest only valid for n>=20 ... continuing \"\n"
     ]
    },
    {
     "data": {
      "text/html": [
       "<table class=\"simpletable\">\n",
       "<caption>OLS Regression Results</caption>\n",
       "<tr>\n",
       "  <th>Dep. Variable:</th>     <td>domestic_gross</td>  <th>  R-squared:         </th> <td>   0.265</td>\n",
       "</tr>\n",
       "<tr>\n",
       "  <th>Model:</th>                   <td>OLS</td>       <th>  Adj. R-squared:    </th> <td>   0.161</td>\n",
       "</tr>\n",
       "<tr>\n",
       "  <th>Method:</th>             <td>Least Squares</td>  <th>  F-statistic:       </th> <td>   2.530</td>\n",
       "</tr>\n",
       "<tr>\n",
       "  <th>Date:</th>             <td>Mon, 25 Sep 2023</td> <th>  Prob (F-statistic):</th>  <td> 0.156</td> \n",
       "</tr>\n",
       "<tr>\n",
       "  <th>Time:</th>                 <td>14:40:09</td>     <th>  Log-Likelihood:    </th> <td> -177.44</td>\n",
       "</tr>\n",
       "<tr>\n",
       "  <th>No. Observations:</th>      <td>     9</td>      <th>  AIC:               </th> <td>   358.9</td>\n",
       "</tr>\n",
       "<tr>\n",
       "  <th>Df Residuals:</th>          <td>     7</td>      <th>  BIC:               </th> <td>   359.3</td>\n",
       "</tr>\n",
       "<tr>\n",
       "  <th>Df Model:</th>              <td>     1</td>      <th>                     </th>     <td> </td>   \n",
       "</tr>\n",
       "<tr>\n",
       "  <th>Covariance Type:</th>      <td>nonrobust</td>    <th>                     </th>     <td> </td>   \n",
       "</tr>\n",
       "</table>\n",
       "<table class=\"simpletable\">\n",
       "<tr>\n",
       "        <td></td>          <th>coef</th>     <th>std err</th>      <th>t</th>      <th>P>|t|</th>  <th>[0.025</th>    <th>0.975]</th>  \n",
       "</tr>\n",
       "<tr>\n",
       "  <th>const</th>        <td>-1.898e+10</td> <td>  1.2e+10</td> <td>   -1.586</td> <td> 0.157</td> <td>-4.73e+10</td> <td> 9.32e+09</td>\n",
       "</tr>\n",
       "<tr>\n",
       "  <th>release_year</th> <td> 9.469e+06</td> <td> 5.95e+06</td> <td>    1.591</td> <td> 0.156</td> <td>-4.61e+06</td> <td> 2.35e+07</td>\n",
       "</tr>\n",
       "</table>\n",
       "<table class=\"simpletable\">\n",
       "<tr>\n",
       "  <th>Omnibus:</th>       <td>10.270</td> <th>  Durbin-Watson:     </th> <td>   1.010</td>\n",
       "</tr>\n",
       "<tr>\n",
       "  <th>Prob(Omnibus):</th> <td> 0.006</td> <th>  Jarque-Bera (JB):  </th> <td>   3.954</td>\n",
       "</tr>\n",
       "<tr>\n",
       "  <th>Skew:</th>          <td> 1.462</td> <th>  Prob(JB):          </th> <td>   0.139</td>\n",
       "</tr>\n",
       "<tr>\n",
       "  <th>Kurtosis:</th>      <td> 4.413</td> <th>  Cond. No.          </th> <td>7.21e+05</td>\n",
       "</tr>\n",
       "</table><br/><br/>Notes:<br/>[1] Standard Errors assume that the covariance matrix of the errors is correctly specified.<br/>[2] The condition number is large, 7.21e+05. This might indicate that there are<br/>strong multicollinearity or other numerical problems."
      ],
      "text/plain": [
       "<class 'statsmodels.iolib.summary.Summary'>\n",
       "\"\"\"\n",
       "                            OLS Regression Results                            \n",
       "==============================================================================\n",
       "Dep. Variable:         domestic_gross   R-squared:                       0.265\n",
       "Model:                            OLS   Adj. R-squared:                  0.161\n",
       "Method:                 Least Squares   F-statistic:                     2.530\n",
       "Date:                Mon, 25 Sep 2023   Prob (F-statistic):              0.156\n",
       "Time:                        14:40:09   Log-Likelihood:                -177.44\n",
       "No. Observations:                   9   AIC:                             358.9\n",
       "Df Residuals:                       7   BIC:                             359.3\n",
       "Df Model:                           1                                         \n",
       "Covariance Type:            nonrobust                                         \n",
       "================================================================================\n",
       "                   coef    std err          t      P>|t|      [0.025      0.975]\n",
       "--------------------------------------------------------------------------------\n",
       "const        -1.898e+10    1.2e+10     -1.586      0.157   -4.73e+10    9.32e+09\n",
       "release_year  9.469e+06   5.95e+06      1.591      0.156   -4.61e+06    2.35e+07\n",
       "==============================================================================\n",
       "Omnibus:                       10.270   Durbin-Watson:                   1.010\n",
       "Prob(Omnibus):                  0.006   Jarque-Bera (JB):                3.954\n",
       "Skew:                           1.462   Prob(JB):                        0.139\n",
       "Kurtosis:                       4.413   Cond. No.                     7.21e+05\n",
       "==============================================================================\n",
       "\n",
       "Notes:\n",
       "[1] Standard Errors assume that the covariance matrix of the errors is correctly specified.\n",
       "[2] The condition number is large, 7.21e+05. This might indicate that there are\n",
       "strong multicollinearity or other numerical problems.\n",
       "\"\"\""
      ]
     },
     "execution_count": 30,
     "metadata": {},
     "output_type": "execute_result"
    }
   ],
   "source": [
    "musical_results = lin_reg('Musical')\n",
    "musical_results.summary()"
   ]
  },
  {
   "cell_type": "markdown",
   "metadata": {},
   "source": [
    "### Interpretation: \n",
    "\n",
    "    P: 0.156 - not statistically significant\n",
    "    Coef: 9.469e+06 increase per year\n",
    "    R2: 26.5% of variation is due to the year\n",
    "    F-stat: 2.53"
   ]
  },
  {
   "cell_type": "markdown",
   "metadata": {},
   "source": [
    "There is no statistically significant indication that the musical genre will experience growth moving foward. While there appears to be a slight trend upward in the trend line, this can be attributed to an outlier movie release in 2017 that did better that previous movies released in that genre. "
   ]
  },
  {
   "cell_type": "markdown",
   "metadata": {},
   "source": [
    "## Sport Domestic Gross\n"
   ]
  },
  {
   "cell_type": "code",
   "execution_count": 31,
   "metadata": {
    "scrolled": false
   },
   "outputs": [
    {
     "name": "stdout",
     "output_type": "stream",
     "text": [
      "Our regression line is: y = 2576014.49845x + -5138391749.45988\n"
     ]
    },
    {
     "data": {
      "image/png": "[encoded data removed]",
      "text/plain": [
       "<Figure size 1080x360 with 2 Axes>"
      ]
     },
     "metadata": {
      "needs_background": "light"
     },
     "output_type": "display_data"
    },
    {
     "name": "stderr",
     "output_type": "stream",
     "text": [
      "/Users/abigailcampbell/anaconda3/envs/learn-env/lib/python3.8/site-packages/scipy/stats/stats.py:1603: UserWarning: kurtosistest only valid for n>=20 ... continuing anyway, n=16\n",
      "  warnings.warn(\"kurtosistest only valid for n>=20 ... continuing \"\n"
     ]
    },
    {
     "data": {
      "text/html": [
       "<table class=\"simpletable\">\n",
       "<caption>OLS Regression Results</caption>\n",
       "<tr>\n",
       "  <th>Dep. Variable:</th>     <td>domestic_gross</td>  <th>  R-squared:         </th> <td>   0.192</td>\n",
       "</tr>\n",
       "<tr>\n",
       "  <th>Model:</th>                   <td>OLS</td>       <th>  Adj. R-squared:    </th> <td>   0.134</td>\n",
       "</tr>\n",
       "<tr>\n",
       "  <th>Method:</th>             <td>Least Squares</td>  <th>  F-statistic:       </th> <td>   3.323</td>\n",
       "</tr>\n",
       "<tr>\n",
       "  <th>Date:</th>             <td>Mon, 25 Sep 2023</td> <th>  Prob (F-statistic):</th>  <td>0.0897</td> \n",
       "</tr>\n",
       "<tr>\n",
       "  <th>Time:</th>                 <td>14:40:13</td>     <th>  Log-Likelihood:    </th> <td> -299.97</td>\n",
       "</tr>\n",
       "<tr>\n",
       "  <th>No. Observations:</th>      <td>    16</td>      <th>  AIC:               </th> <td>   603.9</td>\n",
       "</tr>\n",
       "<tr>\n",
       "  <th>Df Residuals:</th>          <td>    14</td>      <th>  BIC:               </th> <td>   605.5</td>\n",
       "</tr>\n",
       "<tr>\n",
       "  <th>Df Model:</th>              <td>     1</td>      <th>                     </th>     <td> </td>   \n",
       "</tr>\n",
       "<tr>\n",
       "  <th>Covariance Type:</th>      <td>nonrobust</td>    <th>                     </th>     <td> </td>   \n",
       "</tr>\n",
       "</table>\n",
       "<table class=\"simpletable\">\n",
       "<tr>\n",
       "        <td></td>          <th>coef</th>     <th>std err</th>      <th>t</th>      <th>P>|t|</th>  <th>[0.025</th>    <th>0.975]</th>  \n",
       "</tr>\n",
       "<tr>\n",
       "  <th>const</th>        <td>-5.138e+09</td> <td> 2.84e+09</td> <td>   -1.810</td> <td> 0.092</td> <td>-1.12e+10</td> <td> 9.52e+08</td>\n",
       "</tr>\n",
       "<tr>\n",
       "  <th>release_year</th> <td> 2.576e+06</td> <td> 1.41e+06</td> <td>    1.823</td> <td> 0.090</td> <td>-4.55e+05</td> <td> 5.61e+06</td>\n",
       "</tr>\n",
       "</table>\n",
       "<table class=\"simpletable\">\n",
       "<tr>\n",
       "  <th>Omnibus:</th>       <td> 3.406</td> <th>  Durbin-Watson:     </th> <td>   2.157</td>\n",
       "</tr>\n",
       "<tr>\n",
       "  <th>Prob(Omnibus):</th> <td> 0.182</td> <th>  Jarque-Bera (JB):  </th> <td>   1.815</td>\n",
       "</tr>\n",
       "<tr>\n",
       "  <th>Skew:</th>          <td> 0.819</td> <th>  Prob(JB):          </th> <td>   0.404</td>\n",
       "</tr>\n",
       "<tr>\n",
       "  <th>Kurtosis:</th>      <td> 3.196</td> <th>  Cond. No.          </th> <td>6.36e+05</td>\n",
       "</tr>\n",
       "</table><br/><br/>Notes:<br/>[1] Standard Errors assume that the covariance matrix of the errors is correctly specified.<br/>[2] The condition number is large, 6.36e+05. This might indicate that there are<br/>strong multicollinearity or other numerical problems."
      ],
      "text/plain": [
       "<class 'statsmodels.iolib.summary.Summary'>\n",
       "\"\"\"\n",
       "                            OLS Regression Results                            \n",
       "==============================================================================\n",
       "Dep. Variable:         domestic_gross   R-squared:                       0.192\n",
       "Model:                            OLS   Adj. R-squared:                  0.134\n",
       "Method:                 Least Squares   F-statistic:                     3.323\n",
       "Date:                Mon, 25 Sep 2023   Prob (F-statistic):             0.0897\n",
       "Time:                        14:40:13   Log-Likelihood:                -299.97\n",
       "No. Observations:                  16   AIC:                             603.9\n",
       "Df Residuals:                      14   BIC:                             605.5\n",
       "Df Model:                           1                                         \n",
       "Covariance Type:            nonrobust                                         \n",
       "================================================================================\n",
       "                   coef    std err          t      P>|t|      [0.025      0.975]\n",
       "--------------------------------------------------------------------------------\n",
       "const        -5.138e+09   2.84e+09     -1.810      0.092   -1.12e+10    9.52e+08\n",
       "release_year  2.576e+06   1.41e+06      1.823      0.090   -4.55e+05    5.61e+06\n",
       "==============================================================================\n",
       "Omnibus:                        3.406   Durbin-Watson:                   2.157\n",
       "Prob(Omnibus):                  0.182   Jarque-Bera (JB):                1.815\n",
       "Skew:                           0.819   Prob(JB):                        0.404\n",
       "Kurtosis:                       3.196   Cond. No.                     6.36e+05\n",
       "==============================================================================\n",
       "\n",
       "Notes:\n",
       "[1] Standard Errors assume that the covariance matrix of the errors is correctly specified.\n",
       "[2] The condition number is large, 6.36e+05. This might indicate that there are\n",
       "strong multicollinearity or other numerical problems.\n",
       "\"\"\""
      ]
     },
     "execution_count": 31,
     "metadata": {},
     "output_type": "execute_result"
    }
   ],
   "source": [
    "sport_results = lin_reg('Sport')\n",
    "sport_results.summary()"
   ]
  },
  {
   "cell_type": "markdown",
   "metadata": {},
   "source": [
    "### Interpretation: \n",
    "\n",
    "    P: 0.092 - not statistically significant\n",
    "    Coef: 2.576e+06 increase per year\n",
    "    R2: 19.2% of variation is due to the year\n",
    "    F-stat: 3.32"
   ]
  },
  {
   "cell_type": "markdown",
   "metadata": {},
   "source": [
    "There is no statistically significant indication that the sports genre will experience growth moving foward. While there appears to be a slight trend upward, the increasingly wide variance in box office earnings for this genre  make it difficult to attribute the increase in earnings to growing popularity, as there are several outliers."
   ]
  },
  {
   "cell_type": "markdown",
   "metadata": {},
   "source": [
    "## Drama Domestic Gross"
   ]
  },
  {
   "cell_type": "code",
   "execution_count": 32,
   "metadata": {
    "scrolled": false
   },
   "outputs": [
    {
     "name": "stdout",
     "output_type": "stream",
     "text": [
      "Our regression line is: y = -994884.33769x + 2027415506.61163\n"
     ]
    },
    {
     "data": {
      "image/png": "[encoded data removed]",
      "text/plain": [
       "<Figure size 1080x360 with 2 Axes>"
      ]
     },
     "metadata": {
      "needs_background": "light"
     },
     "output_type": "display_data"
    },
    {
     "data": {
      "text/html": [
       "<table class=\"simpletable\">\n",
       "<caption>OLS Regression Results</caption>\n",
       "<tr>\n",
       "  <th>Dep. Variable:</th>     <td>domestic_gross</td>  <th>  R-squared:         </th> <td>   0.180</td>\n",
       "</tr>\n",
       "<tr>\n",
       "  <th>Model:</th>                   <td>OLS</td>       <th>  Adj. R-squared:    </th> <td>   0.151</td>\n",
       "</tr>\n",
       "<tr>\n",
       "  <th>Method:</th>             <td>Least Squares</td>  <th>  F-statistic:       </th> <td>   6.161</td>\n",
       "</tr>\n",
       "<tr>\n",
       "  <th>Date:</th>             <td>Mon, 25 Sep 2023</td> <th>  Prob (F-statistic):</th>  <td>0.0193</td> \n",
       "</tr>\n",
       "<tr>\n",
       "  <th>Time:</th>                 <td>14:40:16</td>     <th>  Log-Likelihood:    </th> <td> -544.34</td>\n",
       "</tr>\n",
       "<tr>\n",
       "  <th>No. Observations:</th>      <td>    30</td>      <th>  AIC:               </th> <td>   1093.</td>\n",
       "</tr>\n",
       "<tr>\n",
       "  <th>Df Residuals:</th>          <td>    28</td>      <th>  BIC:               </th> <td>   1095.</td>\n",
       "</tr>\n",
       "<tr>\n",
       "  <th>Df Model:</th>              <td>     1</td>      <th>                     </th>     <td> </td>   \n",
       "</tr>\n",
       "<tr>\n",
       "  <th>Covariance Type:</th>      <td>nonrobust</td>    <th>                     </th>     <td> </td>   \n",
       "</tr>\n",
       "</table>\n",
       "<table class=\"simpletable\">\n",
       "<tr>\n",
       "        <td></td>          <th>coef</th>     <th>std err</th>      <th>t</th>      <th>P>|t|</th>  <th>[0.025</th>    <th>0.975]</th>  \n",
       "</tr>\n",
       "<tr>\n",
       "  <th>const</th>        <td> 2.027e+09</td> <td> 8.03e+08</td> <td>    2.523</td> <td> 0.018</td> <td> 3.82e+08</td> <td> 3.67e+09</td>\n",
       "</tr>\n",
       "<tr>\n",
       "  <th>release_year</th> <td>-9.949e+05</td> <td> 4.01e+05</td> <td>   -2.482</td> <td> 0.019</td> <td>-1.82e+06</td> <td>-1.74e+05</td>\n",
       "</tr>\n",
       "</table>\n",
       "<table class=\"simpletable\">\n",
       "<tr>\n",
       "  <th>Omnibus:</th>       <td>23.252</td> <th>  Durbin-Watson:     </th> <td>   2.564</td>\n",
       "</tr>\n",
       "<tr>\n",
       "  <th>Prob(Omnibus):</th> <td> 0.000</td> <th>  Jarque-Bera (JB):  </th> <td>  47.213</td>\n",
       "</tr>\n",
       "<tr>\n",
       "  <th>Skew:</th>          <td> 1.608</td> <th>  Prob(JB):          </th> <td>5.60e-11</td>\n",
       "</tr>\n",
       "<tr>\n",
       "  <th>Kurtosis:</th>      <td> 8.238</td> <th>  Cond. No.          </th> <td>4.64e+05</td>\n",
       "</tr>\n",
       "</table><br/><br/>Notes:<br/>[1] Standard Errors assume that the covariance matrix of the errors is correctly specified.<br/>[2] The condition number is large, 4.64e+05. This might indicate that there are<br/>strong multicollinearity or other numerical problems."
      ],
      "text/plain": [
       "<class 'statsmodels.iolib.summary.Summary'>\n",
       "\"\"\"\n",
       "                            OLS Regression Results                            \n",
       "==============================================================================\n",
       "Dep. Variable:         domestic_gross   R-squared:                       0.180\n",
       "Model:                            OLS   Adj. R-squared:                  0.151\n",
       "Method:                 Least Squares   F-statistic:                     6.161\n",
       "Date:                Mon, 25 Sep 2023   Prob (F-statistic):             0.0193\n",
       "Time:                        14:40:16   Log-Likelihood:                -544.34\n",
       "No. Observations:                  30   AIC:                             1093.\n",
       "Df Residuals:                      28   BIC:                             1095.\n",
       "Df Model:                           1                                         \n",
       "Covariance Type:            nonrobust                                         \n",
       "================================================================================\n",
       "                   coef    std err          t      P>|t|      [0.025      0.975]\n",
       "--------------------------------------------------------------------------------\n",
       "const         2.027e+09   8.03e+08      2.523      0.018    3.82e+08    3.67e+09\n",
       "release_year -9.949e+05   4.01e+05     -2.482      0.019   -1.82e+06   -1.74e+05\n",
       "==============================================================================\n",
       "Omnibus:                       23.252   Durbin-Watson:                   2.564\n",
       "Prob(Omnibus):                  0.000   Jarque-Bera (JB):               47.213\n",
       "Skew:                           1.608   Prob(JB):                     5.60e-11\n",
       "Kurtosis:                       8.238   Cond. No.                     4.64e+05\n",
       "==============================================================================\n",
       "\n",
       "Notes:\n",
       "[1] Standard Errors assume that the covariance matrix of the errors is correctly specified.\n",
       "[2] The condition number is large, 4.64e+05. This might indicate that there are\n",
       "strong multicollinearity or other numerical problems.\n",
       "\"\"\""
      ]
     },
     "execution_count": 32,
     "metadata": {},
     "output_type": "execute_result"
    }
   ],
   "source": [
    "drama_results = lin_reg('Drama')\n",
    "drama_results.summary()"
   ]
  },
  {
   "cell_type": "markdown",
   "metadata": {},
   "source": [
    "### Interpretation: \n",
    "\n",
    "    P: 0.018 - statistically significant, but barely\n",
    "    Coef: -9.949e+05 decrease per year\n",
    "    R2: 18% of variation is due to the year\n",
    "    F-stat: 6.16"
   ]
  },
  {
   "cell_type": "markdown",
   "metadata": {},
   "source": [
    "Based on box office trends over the last 30 years, the Drama genre may experience a decline in earnings. There has been an decrease in box office earnings for the genre, however there is slightly less confidance that these decreases can be attributed to the releae year. There are a few outliers at the start of the trend line that decrease the confidence in the results."
   ]
  },
  {
   "cell_type": "markdown",
   "metadata": {},
   "source": [
    "## Horror Domestic Gross"
   ]
  },
  {
   "cell_type": "code",
   "execution_count": 33,
   "metadata": {
    "scrolled": false
   },
   "outputs": [
    {
     "name": "stdout",
     "output_type": "stream",
     "text": [
      "Our regression line is: y = -622878.29095x + 1279926497.33973\n"
     ]
    },
    {
     "data": {
      "image/png": "[encoded data removed]",
      "text/plain": [
       "<Figure size 1080x360 with 2 Axes>"
      ]
     },
     "metadata": {
      "needs_background": "light"
     },
     "output_type": "display_data"
    },
    {
     "data": {
      "text/html": [
       "<table class=\"simpletable\">\n",
       "<caption>OLS Regression Results</caption>\n",
       "<tr>\n",
       "  <th>Dep. Variable:</th>     <td>domestic_gross</td>  <th>  R-squared:         </th> <td>   0.104</td>\n",
       "</tr>\n",
       "<tr>\n",
       "  <th>Model:</th>                   <td>OLS</td>       <th>  Adj. R-squared:    </th> <td>   0.068</td>\n",
       "</tr>\n",
       "<tr>\n",
       "  <th>Method:</th>             <td>Least Squares</td>  <th>  F-statistic:       </th> <td>   2.891</td>\n",
       "</tr>\n",
       "<tr>\n",
       "  <th>Date:</th>             <td>Mon, 25 Sep 2023</td> <th>  Prob (F-statistic):</th>  <td> 0.101</td> \n",
       "</tr>\n",
       "<tr>\n",
       "  <th>Time:</th>                 <td>14:40:19</td>     <th>  Log-Likelihood:    </th> <td> -484.90</td>\n",
       "</tr>\n",
       "<tr>\n",
       "  <th>No. Observations:</th>      <td>    27</td>      <th>  AIC:               </th> <td>   973.8</td>\n",
       "</tr>\n",
       "<tr>\n",
       "  <th>Df Residuals:</th>          <td>    25</td>      <th>  BIC:               </th> <td>   976.4</td>\n",
       "</tr>\n",
       "<tr>\n",
       "  <th>Df Model:</th>              <td>     1</td>      <th>                     </th>     <td> </td>   \n",
       "</tr>\n",
       "<tr>\n",
       "  <th>Covariance Type:</th>      <td>nonrobust</td>    <th>                     </th>     <td> </td>   \n",
       "</tr>\n",
       "</table>\n",
       "<table class=\"simpletable\">\n",
       "<tr>\n",
       "        <td></td>          <th>coef</th>     <th>std err</th>      <th>t</th>      <th>P>|t|</th>  <th>[0.025</th>    <th>0.975]</th>  \n",
       "</tr>\n",
       "<tr>\n",
       "  <th>const</th>        <td>  1.28e+09</td> <td> 7.35e+08</td> <td>    1.742</td> <td> 0.094</td> <td>-2.33e+08</td> <td> 2.79e+09</td>\n",
       "</tr>\n",
       "<tr>\n",
       "  <th>release_year</th> <td>-6.229e+05</td> <td> 3.66e+05</td> <td>   -1.700</td> <td> 0.101</td> <td>-1.38e+06</td> <td> 1.32e+05</td>\n",
       "</tr>\n",
       "</table>\n",
       "<table class=\"simpletable\">\n",
       "<tr>\n",
       "  <th>Omnibus:</th>       <td> 6.929</td> <th>  Durbin-Watson:     </th> <td>   1.847</td>\n",
       "</tr>\n",
       "<tr>\n",
       "  <th>Prob(Omnibus):</th> <td> 0.031</td> <th>  Jarque-Bera (JB):  </th> <td>   5.008</td>\n",
       "</tr>\n",
       "<tr>\n",
       "  <th>Skew:</th>          <td> 0.849</td> <th>  Prob(JB):          </th> <td>  0.0818</td>\n",
       "</tr>\n",
       "<tr>\n",
       "  <th>Kurtosis:</th>      <td> 4.252</td> <th>  Cond. No.          </th> <td>4.83e+05</td>\n",
       "</tr>\n",
       "</table><br/><br/>Notes:<br/>[1] Standard Errors assume that the covariance matrix of the errors is correctly specified.<br/>[2] The condition number is large, 4.83e+05. This might indicate that there are<br/>strong multicollinearity or other numerical problems."
      ],
      "text/plain": [
       "<class 'statsmodels.iolib.summary.Summary'>\n",
       "\"\"\"\n",
       "                            OLS Regression Results                            \n",
       "==============================================================================\n",
       "Dep. Variable:         domestic_gross   R-squared:                       0.104\n",
       "Model:                            OLS   Adj. R-squared:                  0.068\n",
       "Method:                 Least Squares   F-statistic:                     2.891\n",
       "Date:                Mon, 25 Sep 2023   Prob (F-statistic):              0.101\n",
       "Time:                        14:40:19   Log-Likelihood:                -484.90\n",
       "No. Observations:                  27   AIC:                             973.8\n",
       "Df Residuals:                      25   BIC:                             976.4\n",
       "Df Model:                           1                                         \n",
       "Covariance Type:            nonrobust                                         \n",
       "================================================================================\n",
       "                   coef    std err          t      P>|t|      [0.025      0.975]\n",
       "--------------------------------------------------------------------------------\n",
       "const          1.28e+09   7.35e+08      1.742      0.094   -2.33e+08    2.79e+09\n",
       "release_year -6.229e+05   3.66e+05     -1.700      0.101   -1.38e+06    1.32e+05\n",
       "==============================================================================\n",
       "Omnibus:                        6.929   Durbin-Watson:                   1.847\n",
       "Prob(Omnibus):                  0.031   Jarque-Bera (JB):                5.008\n",
       "Skew:                           0.849   Prob(JB):                       0.0818\n",
       "Kurtosis:                       4.252   Cond. No.                     4.83e+05\n",
       "==============================================================================\n",
       "\n",
       "Notes:\n",
       "[1] Standard Errors assume that the covariance matrix of the errors is correctly specified.\n",
       "[2] The condition number is large, 4.83e+05. This might indicate that there are\n",
       "strong multicollinearity or other numerical problems.\n",
       "\"\"\""
      ]
     },
     "execution_count": 33,
     "metadata": {},
     "output_type": "execute_result"
    }
   ],
   "source": [
    "horror_results = lin_reg('Horror')\n",
    "horror_results.summary()"
   ]
  },
  {
   "cell_type": "markdown",
   "metadata": {},
   "source": [
    "### Interpretation: \n",
    "\n",
    "    P: 0.094 - not statistically significant\n",
    "    Coef: -6.229e+06 decrease per year\n",
    "    R2: 10.4% of variation is due to the year\n",
    "    F-stat: 2.89"
   ]
  },
  {
   "cell_type": "markdown",
   "metadata": {},
   "source": [
    "There is no statistically significant indication that the Horor genre will decrease in popularity moving foward. While there appears to be a slight trend donward, the wide variance in box office earnings for this genre make it difficult to attribute the decrease in earnings to growing popularity, as there are several outliers."
   ]
  },
  {
   "cell_type": "markdown",
   "metadata": {},
   "source": [
    "## War Domestic Gross"
   ]
  },
  {
   "cell_type": "code",
   "execution_count": 34,
   "metadata": {
    "scrolled": false
   },
   "outputs": [
    {
     "name": "stdout",
     "output_type": "stream",
     "text": [
      "Our regression line is: y = -2619716.57887x + 5288569324.92254\n"
     ]
    },
    {
     "data": {
      "image/png": "[encoded data removed]",
      "text/plain": [
       "<Figure size 1080x360 with 2 Axes>"
      ]
     },
     "metadata": {
      "needs_background": "light"
     },
     "output_type": "display_data"
    },
    {
     "name": "stderr",
     "output_type": "stream",
     "text": [
      "/Users/abigailcampbell/anaconda3/envs/learn-env/lib/python3.8/site-packages/scipy/stats/stats.py:1603: UserWarning: kurtosistest only valid for n>=20 ... continuing anyway, n=17\n",
      "  warnings.warn(\"kurtosistest only valid for n>=20 ... continuing \"\n"
     ]
    },
    {
     "data": {
      "text/html": [
       "<table class=\"simpletable\">\n",
       "<caption>OLS Regression Results</caption>\n",
       "<tr>\n",
       "  <th>Dep. Variable:</th>     <td>domestic_gross</td>  <th>  R-squared:         </th> <td>   0.359</td>\n",
       "</tr>\n",
       "<tr>\n",
       "  <th>Model:</th>                   <td>OLS</td>       <th>  Adj. R-squared:    </th> <td>   0.317</td>\n",
       "</tr>\n",
       "<tr>\n",
       "  <th>Method:</th>             <td>Least Squares</td>  <th>  F-statistic:       </th> <td>   8.413</td>\n",
       "</tr>\n",
       "<tr>\n",
       "  <th>Date:</th>             <td>Mon, 25 Sep 2023</td> <th>  Prob (F-statistic):</th>  <td>0.0110</td> \n",
       "</tr>\n",
       "<tr>\n",
       "  <th>Time:</th>                 <td>14:40:21</td>     <th>  Log-Likelihood:    </th> <td> -312.16</td>\n",
       "</tr>\n",
       "<tr>\n",
       "  <th>No. Observations:</th>      <td>    17</td>      <th>  AIC:               </th> <td>   628.3</td>\n",
       "</tr>\n",
       "<tr>\n",
       "  <th>Df Residuals:</th>          <td>    15</td>      <th>  BIC:               </th> <td>   630.0</td>\n",
       "</tr>\n",
       "<tr>\n",
       "  <th>Df Model:</th>              <td>     1</td>      <th>                     </th>     <td> </td>   \n",
       "</tr>\n",
       "<tr>\n",
       "  <th>Covariance Type:</th>      <td>nonrobust</td>    <th>                     </th>     <td> </td>   \n",
       "</tr>\n",
       "</table>\n",
       "<table class=\"simpletable\">\n",
       "<tr>\n",
       "        <td></td>          <th>coef</th>     <th>std err</th>      <th>t</th>      <th>P>|t|</th>  <th>[0.025</th>    <th>0.975]</th>  \n",
       "</tr>\n",
       "<tr>\n",
       "  <th>const</th>        <td> 5.289e+09</td> <td> 1.81e+09</td> <td>    2.917</td> <td> 0.011</td> <td> 1.42e+09</td> <td> 9.15e+09</td>\n",
       "</tr>\n",
       "<tr>\n",
       "  <th>release_year</th> <td> -2.62e+06</td> <td> 9.03e+05</td> <td>   -2.900</td> <td> 0.011</td> <td>-4.54e+06</td> <td>-6.95e+05</td>\n",
       "</tr>\n",
       "</table>\n",
       "<table class=\"simpletable\">\n",
       "<tr>\n",
       "  <th>Omnibus:</th>       <td> 0.149</td> <th>  Durbin-Watson:     </th> <td>   2.142</td>\n",
       "</tr>\n",
       "<tr>\n",
       "  <th>Prob(Omnibus):</th> <td> 0.928</td> <th>  Jarque-Bera (JB):  </th> <td>   0.325</td>\n",
       "</tr>\n",
       "<tr>\n",
       "  <th>Skew:</th>          <td>-0.165</td> <th>  Prob(JB):          </th> <td>   0.850</td>\n",
       "</tr>\n",
       "<tr>\n",
       "  <th>Kurtosis:</th>      <td> 2.408</td> <th>  Cond. No.          </th> <td>6.17e+05</td>\n",
       "</tr>\n",
       "</table><br/><br/>Notes:<br/>[1] Standard Errors assume that the covariance matrix of the errors is correctly specified.<br/>[2] The condition number is large, 6.17e+05. This might indicate that there are<br/>strong multicollinearity or other numerical problems."
      ],
      "text/plain": [
       "<class 'statsmodels.iolib.summary.Summary'>\n",
       "\"\"\"\n",
       "                            OLS Regression Results                            \n",
       "==============================================================================\n",
       "Dep. Variable:         domestic_gross   R-squared:                       0.359\n",
       "Model:                            OLS   Adj. R-squared:                  0.317\n",
       "Method:                 Least Squares   F-statistic:                     8.413\n",
       "Date:                Mon, 25 Sep 2023   Prob (F-statistic):             0.0110\n",
       "Time:                        14:40:21   Log-Likelihood:                -312.16\n",
       "No. Observations:                  17   AIC:                             628.3\n",
       "Df Residuals:                      15   BIC:                             630.0\n",
       "Df Model:                           1                                         \n",
       "Covariance Type:            nonrobust                                         \n",
       "================================================================================\n",
       "                   coef    std err          t      P>|t|      [0.025      0.975]\n",
       "--------------------------------------------------------------------------------\n",
       "const         5.289e+09   1.81e+09      2.917      0.011    1.42e+09    9.15e+09\n",
       "release_year  -2.62e+06   9.03e+05     -2.900      0.011   -4.54e+06   -6.95e+05\n",
       "==============================================================================\n",
       "Omnibus:                        0.149   Durbin-Watson:                   2.142\n",
       "Prob(Omnibus):                  0.928   Jarque-Bera (JB):                0.325\n",
       "Skew:                          -0.165   Prob(JB):                        0.850\n",
       "Kurtosis:                       2.408   Cond. No.                     6.17e+05\n",
       "==============================================================================\n",
       "\n",
       "Notes:\n",
       "[1] Standard Errors assume that the covariance matrix of the errors is correctly specified.\n",
       "[2] The condition number is large, 6.17e+05. This might indicate that there are\n",
       "strong multicollinearity or other numerical problems.\n",
       "\"\"\""
      ]
     },
     "execution_count": 34,
     "metadata": {},
     "output_type": "execute_result"
    }
   ],
   "source": [
    "war_results = lin_reg('War')\n",
    "war_results.summary()"
   ]
  },
  {
   "cell_type": "markdown",
   "metadata": {},
   "source": [
    "### Interpretation: \n",
    "\n",
    "    P: 0.011 - statistically significant, but barely\n",
    "    Coef: -2.62e+06 decrease per year\n",
    "    R2: 35.9% of variation is due to the year\n",
    "    F-stat: 8.413"
   ]
  },
  {
   "cell_type": "markdown",
   "metadata": {},
   "source": [
    "Based on box office trends over the last 30 years, the War genre may experience a decline in earnings. There has been an decrease in box office earnings for the genre, however there is slightly less confidance that these decreases can be attributed to the releae year. There are several outliers throughout the trend line that decrease the confidence in the results."
   ]
  },
  {
   "cell_type": "markdown",
   "metadata": {},
   "source": [
    "# Linear Regression for Freshness Rating"
   ]
  },
  {
   "cell_type": "markdown",
   "metadata": {},
   "source": [
    "The goal is to determine if there has been a reliable increase in quality of movies over time, showing that the quality of movies are getting better.\n",
    "\n",
    "- null hypothesis: the change in fresh ratings over time can not be attributed to the year\n",
    "- alternate hypothesis: the change in fresh ratings over time can be attributed to the year "
   ]
  },
  {
   "cell_type": "markdown",
   "metadata": {},
   "source": [
    "## Define a function to perfrom the linear regression modeling for the review data set"
   ]
  },
  {
   "cell_type": "code",
   "execution_count": 35,
   "metadata": {},
   "outputs": [],
   "source": [
    "def lin_reg_fresh_all(data_set, x, y):\n",
    "    \n",
    "    # manual calculations\n",
    "    rho = np.corrcoef(data_set[x], data_set[y])[0][1]\n",
    "    s_y = data_set[y].std()\n",
    "    s_x = data_set[x].std()\n",
    "    m = rho * s_y / s_x\n",
    "\n",
    "    mean_y = data_set[y].mean()\n",
    "    mean_x = data_set[x].mean()\n",
    "    c = mean_y - m * mean_x\n",
    "\n",
    "    print(f\"Our regression line is: y = {round(m, 5)}x + {round(c, 5)}\")\n",
    "\n",
    "    # regression with statsmodels\n",
    "    model = sm.OLS(endog=data_set[y], exog=sm.add_constant(data_set[x]))\n",
    "    results = model.fit()\n",
    "\n",
    "    # plot results\n",
    "    fig, axes = plt.subplots(1, 2, figsize=(15, 5))\n",
    "    \n",
    "    sns.regplot(x=x, y=y, data=data_set, ax=axes[0])\n",
    "    axes[0].set_title(f'Linear Regression')\n",
    "\n",
    "    sm.graphics.qqplot(results.resid, dist=stats.norm, line='45', fit=True, ax=axes[1])\n",
    "    axes[1].set_title('residuals')\n",
    "\n",
    "    plt.show()\n",
    "    \n",
    "    return results"
   ]
  },
  {
   "cell_type": "markdown",
   "metadata": {},
   "source": [
    "## Freshness Ratings Over Time for All Movies"
   ]
  },
  {
   "cell_type": "code",
   "execution_count": 36,
   "metadata": {},
   "outputs": [
    {
     "data": {
      "text/html": [
       "<div>\n",
       "<style scoped>\n",
       "    .dataframe tbody tr th:only-of-type {\n",
       "        vertical-align: middle;\n",
       "    }\n",
       "\n",
       "    .dataframe tbody tr th {\n",
       "        vertical-align: top;\n",
       "    }\n",
       "\n",
       "    .dataframe thead th {\n",
       "        text-align: right;\n",
       "    }\n",
       "</style>\n",
       "<table border=\"1\" class=\"dataframe\">\n",
       "  <thead>\n",
       "    <tr style=\"text-align: right;\">\n",
       "      <th></th>\n",
       "      <th>id</th>\n",
       "      <th>rating</th>\n",
       "      <th>genre</th>\n",
       "      <th>director</th>\n",
       "      <th>theater_date</th>\n",
       "      <th>box_office</th>\n",
       "      <th>studio</th>\n",
       "      <th>top_critic</th>\n",
       "      <th>fresh_rating</th>\n",
       "      <th>year</th>\n",
       "      <th>n_reviews</th>\n",
       "    </tr>\n",
       "  </thead>\n",
       "  <tbody>\n",
       "    <tr>\n",
       "      <th>0</th>\n",
       "      <td>3</td>\n",
       "      <td>R</td>\n",
       "      <td>[Drama, Science Fiction and Fantasy]</td>\n",
       "      <td>David Cronenberg</td>\n",
       "      <td>Aug 17, 2012</td>\n",
       "      <td>600000.0</td>\n",
       "      <td>Entertainment One</td>\n",
       "      <td>0.194690</td>\n",
       "      <td>0.619469</td>\n",
       "      <td>2012</td>\n",
       "      <td>113</td>\n",
       "    </tr>\n",
       "    <tr>\n",
       "      <th>1</th>\n",
       "      <td>5</td>\n",
       "      <td>R</td>\n",
       "      <td>[Drama, Musical and Performing Arts]</td>\n",
       "      <td>Allison Anders</td>\n",
       "      <td>Sep 13, 1996</td>\n",
       "      <td>NaN</td>\n",
       "      <td>NaN</td>\n",
       "      <td>0.200000</td>\n",
       "      <td>0.750000</td>\n",
       "      <td>2003</td>\n",
       "      <td>20</td>\n",
       "    </tr>\n",
       "    <tr>\n",
       "      <th>2</th>\n",
       "      <td>6</td>\n",
       "      <td>R</td>\n",
       "      <td>[Drama, Mystery and Suspense]</td>\n",
       "      <td>Barry Levinson</td>\n",
       "      <td>Dec 9, 1994</td>\n",
       "      <td>NaN</td>\n",
       "      <td>NaN</td>\n",
       "      <td>0.219512</td>\n",
       "      <td>0.609756</td>\n",
       "      <td>2005</td>\n",
       "      <td>41</td>\n",
       "    </tr>\n",
       "    <tr>\n",
       "      <th>3</th>\n",
       "      <td>8</td>\n",
       "      <td>PG</td>\n",
       "      <td>[Drama, Kids and Family]</td>\n",
       "      <td>Jay Russell</td>\n",
       "      <td>Mar 3, 2000</td>\n",
       "      <td>NaN</td>\n",
       "      <td>Warner Bros. Pictures</td>\n",
       "      <td>0.250000</td>\n",
       "      <td>0.700000</td>\n",
       "      <td>2001</td>\n",
       "      <td>40</td>\n",
       "    </tr>\n",
       "    <tr>\n",
       "      <th>4</th>\n",
       "      <td>10</td>\n",
       "      <td>PG-13</td>\n",
       "      <td>[Comedy]</td>\n",
       "      <td>Jake Kasdan</td>\n",
       "      <td>Jan 11, 2002</td>\n",
       "      <td>41032915.0</td>\n",
       "      <td>Paramount Pictures</td>\n",
       "      <td>0.229508</td>\n",
       "      <td>0.475410</td>\n",
       "      <td>2002</td>\n",
       "      <td>61</td>\n",
       "    </tr>\n",
       "  </tbody>\n",
       "</table>\n",
       "</div>"
      ],
      "text/plain": [
       "   id rating                                 genre          director  \\\n",
       "0   3      R  [Drama, Science Fiction and Fantasy]  David Cronenberg   \n",
       "1   5      R  [Drama, Musical and Performing Arts]    Allison Anders   \n",
       "2   6      R         [Drama, Mystery and Suspense]    Barry Levinson   \n",
       "3   8     PG              [Drama, Kids and Family]       Jay Russell   \n",
       "4  10  PG-13                              [Comedy]       Jake Kasdan   \n",
       "\n",
       "   theater_date  box_office                 studio  top_critic  fresh_rating  \\\n",
       "0  Aug 17, 2012    600000.0      Entertainment One    0.194690      0.619469   \n",
       "1  Sep 13, 1996         NaN                    NaN    0.200000      0.750000   \n",
       "2   Dec 9, 1994         NaN                    NaN    0.219512      0.609756   \n",
       "3   Mar 3, 2000         NaN  Warner Bros. Pictures    0.250000      0.700000   \n",
       "4  Jan 11, 2002  41032915.0     Paramount Pictures    0.229508      0.475410   \n",
       "\n",
       "   year  n_reviews  \n",
       "0  2012        113  \n",
       "1  2003         20  \n",
       "2  2005         41  \n",
       "3  2001         40  \n",
       "4  2002         61  "
      ]
     },
     "execution_count": 36,
     "metadata": {},
     "output_type": "execute_result"
    }
   ],
   "source": [
    "rt_movie_fresh_df.head()"
   ]
  },
  {
   "cell_type": "markdown",
   "metadata": {},
   "source": [
    "Group the movies in the review data set by year, then take the average. Perform a linear regression to see if there is a significant trend in average movie freshness ratings per year"
   ]
  },
  {
   "cell_type": "code",
   "execution_count": 37,
   "metadata": {
    "scrolled": false
   },
   "outputs": [
    {
     "name": "stdout",
     "output_type": "stream",
     "text": [
      "Our regression line is: y = 0.00097x + -1.35504\n"
     ]
    },
    {
     "data": {
      "image/png": "[encoded data removed]",
      "text/plain": [
       "<Figure size 1080x360 with 2 Axes>"
      ]
     },
     "metadata": {
      "needs_background": "light"
     },
     "output_type": "display_data"
    },
    {
     "name": "stderr",
     "output_type": "stream",
     "text": [
      "/Users/abigailcampbell/anaconda3/envs/learn-env/lib/python3.8/site-packages/scipy/stats/stats.py:1603: UserWarning: kurtosistest only valid for n>=20 ... continuing anyway, n=19\n",
      "  warnings.warn(\"kurtosistest only valid for n>=20 ... continuing \"\n"
     ]
    },
    {
     "data": {
      "text/html": [
       "<table class=\"simpletable\">\n",
       "<caption>OLS Regression Results</caption>\n",
       "<tr>\n",
       "  <th>Dep. Variable:</th>      <td>fresh_rating</td>   <th>  R-squared:         </th> <td>   0.011</td>\n",
       "</tr>\n",
       "<tr>\n",
       "  <th>Model:</th>                   <td>OLS</td>       <th>  Adj. R-squared:    </th> <td>  -0.047</td>\n",
       "</tr>\n",
       "<tr>\n",
       "  <th>Method:</th>             <td>Least Squares</td>  <th>  F-statistic:       </th> <td>  0.1892</td>\n",
       "</tr>\n",
       "<tr>\n",
       "  <th>Date:</th>             <td>Mon, 25 Sep 2023</td> <th>  Prob (F-statistic):</th>  <td> 0.669</td> \n",
       "</tr>\n",
       "<tr>\n",
       "  <th>Time:</th>                 <td>14:40:29</td>     <th>  Log-Likelihood:    </th> <td>  29.912</td>\n",
       "</tr>\n",
       "<tr>\n",
       "  <th>No. Observations:</th>      <td>    19</td>      <th>  AIC:               </th> <td>  -55.82</td>\n",
       "</tr>\n",
       "<tr>\n",
       "  <th>Df Residuals:</th>          <td>    17</td>      <th>  BIC:               </th> <td>  -53.94</td>\n",
       "</tr>\n",
       "<tr>\n",
       "  <th>Df Model:</th>              <td>     1</td>      <th>                     </th>     <td> </td>   \n",
       "</tr>\n",
       "<tr>\n",
       "  <th>Covariance Type:</th>      <td>nonrobust</td>    <th>                     </th>     <td> </td>   \n",
       "</tr>\n",
       "</table>\n",
       "<table class=\"simpletable\">\n",
       "<tr>\n",
       "    <td></td>       <th>coef</th>     <th>std err</th>      <th>t</th>      <th>P>|t|</th>  <th>[0.025</th>    <th>0.975]</th>  \n",
       "</tr>\n",
       "<tr>\n",
       "  <th>const</th> <td>   -1.3550</td> <td>    4.459</td> <td>   -0.304</td> <td> 0.765</td> <td>  -10.763</td> <td>    8.053</td>\n",
       "</tr>\n",
       "<tr>\n",
       "  <th>year</th>  <td>    0.0010</td> <td>    0.002</td> <td>    0.435</td> <td> 0.669</td> <td>   -0.004</td> <td>    0.006</td>\n",
       "</tr>\n",
       "</table>\n",
       "<table class=\"simpletable\">\n",
       "<tr>\n",
       "  <th>Omnibus:</th>       <td> 0.797</td> <th>  Durbin-Watson:     </th> <td>   1.406</td>\n",
       "</tr>\n",
       "<tr>\n",
       "  <th>Prob(Omnibus):</th> <td> 0.671</td> <th>  Jarque-Bera (JB):  </th> <td>   0.784</td>\n",
       "</tr>\n",
       "<tr>\n",
       "  <th>Skew:</th>          <td> 0.302</td> <th>  Prob(JB):          </th> <td>   0.676</td>\n",
       "</tr>\n",
       "<tr>\n",
       "  <th>Kurtosis:</th>      <td> 2.209</td> <th>  Cond. No.          </th> <td>7.37e+05</td>\n",
       "</tr>\n",
       "</table><br/><br/>Notes:<br/>[1] Standard Errors assume that the covariance matrix of the errors is correctly specified.<br/>[2] The condition number is large, 7.37e+05. This might indicate that there are<br/>strong multicollinearity or other numerical problems."
      ],
      "text/plain": [
       "<class 'statsmodels.iolib.summary.Summary'>\n",
       "\"\"\"\n",
       "                            OLS Regression Results                            \n",
       "==============================================================================\n",
       "Dep. Variable:           fresh_rating   R-squared:                       0.011\n",
       "Model:                            OLS   Adj. R-squared:                 -0.047\n",
       "Method:                 Least Squares   F-statistic:                    0.1892\n",
       "Date:                Mon, 25 Sep 2023   Prob (F-statistic):              0.669\n",
       "Time:                        14:40:29   Log-Likelihood:                 29.912\n",
       "No. Observations:                  19   AIC:                            -55.82\n",
       "Df Residuals:                      17   BIC:                            -53.94\n",
       "Df Model:                           1                                         \n",
       "Covariance Type:            nonrobust                                         \n",
       "==============================================================================\n",
       "                 coef    std err          t      P>|t|      [0.025      0.975]\n",
       "------------------------------------------------------------------------------\n",
       "const         -1.3550      4.459     -0.304      0.765     -10.763       8.053\n",
       "year           0.0010      0.002      0.435      0.669      -0.004       0.006\n",
       "==============================================================================\n",
       "Omnibus:                        0.797   Durbin-Watson:                   1.406\n",
       "Prob(Omnibus):                  0.671   Jarque-Bera (JB):                0.784\n",
       "Skew:                           0.302   Prob(JB):                        0.676\n",
       "Kurtosis:                       2.209   Cond. No.                     7.37e+05\n",
       "==============================================================================\n",
       "\n",
       "Notes:\n",
       "[1] Standard Errors assume that the covariance matrix of the errors is correctly specified.\n",
       "[2] The condition number is large, 7.37e+05. This might indicate that there are\n",
       "strong multicollinearity or other numerical problems.\n",
       "\"\"\""
      ]
     },
     "execution_count": 37,
     "metadata": {},
     "output_type": "execute_result"
    }
   ],
   "source": [
    "fresh_results_by_year = rt_movie_fresh_df.groupby('year').mean().reset_index()\n",
    "fresh_results_by_recent_year = fresh_results_by_year[(fresh_results_by_year['year'] > 1999)]\n",
    "fresh_results = lin_reg_fresh_all(data_set=fresh_results_by_recent_year, x='year', y='fresh_rating')\n",
    "fresh_results.summary()"
   ]
  },
  {
   "cell_type": "markdown",
   "metadata": {},
   "source": [
    "### Interpretation\n",
    "\n",
    "With a P value well above 0.05, we can not reject the null hypothesis and can conclude that the year of release does not have an affect of the average freshness ratings and can not predict the freshness moving forward. "
   ]
  },
  {
   "cell_type": "markdown",
   "metadata": {},
   "source": [
    "## Director Freshness Ratings Over Time"
   ]
  },
  {
   "cell_type": "markdown",
   "metadata": {},
   "source": [
    "While we can not predict the average freshness per year for overall movie performance, can we predict specific director freshness performance?\n",
    "\n",
    "We will be looking at the two directors with the most movies in the data set: \n",
    "- Steven Spielberg\n",
    "- Clint Eastwood"
   ]
  },
  {
   "cell_type": "code",
   "execution_count": 38,
   "metadata": {},
   "outputs": [
    {
     "data": {
      "text/html": [
       "<div>\n",
       "<style scoped>\n",
       "    .dataframe tbody tr th:only-of-type {\n",
       "        vertical-align: middle;\n",
       "    }\n",
       "\n",
       "    .dataframe tbody tr th {\n",
       "        vertical-align: top;\n",
       "    }\n",
       "\n",
       "    .dataframe thead th {\n",
       "        text-align: right;\n",
       "    }\n",
       "</style>\n",
       "<table border=\"1\" class=\"dataframe\">\n",
       "  <thead>\n",
       "    <tr style=\"text-align: right;\">\n",
       "      <th></th>\n",
       "      <th>director</th>\n",
       "      <th>id</th>\n",
       "      <th>box_office</th>\n",
       "      <th>top_critic</th>\n",
       "      <th>fresh_rating</th>\n",
       "      <th>year</th>\n",
       "      <th>n_reviews</th>\n",
       "      <th>n_movies</th>\n",
       "    </tr>\n",
       "  </thead>\n",
       "  <tbody>\n",
       "    <tr>\n",
       "      <th>7</th>\n",
       "      <td>Steven Spielberg</td>\n",
       "      <td>975.70</td>\n",
       "      <td>1.397208e+08</td>\n",
       "      <td>0.114096</td>\n",
       "      <td>0.800381</td>\n",
       "      <td>2006.400</td>\n",
       "      <td>56.8</td>\n",
       "      <td>10</td>\n",
       "    </tr>\n",
       "    <tr>\n",
       "      <th>10</th>\n",
       "      <td>Clint Eastwood</td>\n",
       "      <td>921.25</td>\n",
       "      <td>4.849406e+07</td>\n",
       "      <td>0.147384</td>\n",
       "      <td>0.684116</td>\n",
       "      <td>2007.125</td>\n",
       "      <td>78.5</td>\n",
       "      <td>8</td>\n",
       "    </tr>\n",
       "  </tbody>\n",
       "</table>\n",
       "</div>"
      ],
      "text/plain": [
       "            director      id    box_office  top_critic  fresh_rating  \\\n",
       "7   Steven Spielberg  975.70  1.397208e+08    0.114096      0.800381   \n",
       "10    Clint Eastwood  921.25  4.849406e+07    0.147384      0.684116   \n",
       "\n",
       "        year  n_reviews  n_movies  \n",
       "7   2006.400       56.8        10  \n",
       "10  2007.125       78.5         8  "
      ]
     },
     "execution_count": 38,
     "metadata": {},
     "output_type": "execute_result"
    }
   ],
   "source": [
    "fresh_experienced_directors_sorted_by_n[fresh_experienced_directors_sorted_by_n['director'].isin(['Steven Spielberg', 'Clint Eastwood'])]"
   ]
  },
  {
   "cell_type": "code",
   "execution_count": 39,
   "metadata": {},
   "outputs": [
    {
     "name": "stdout",
     "output_type": "stream",
     "text": [
      "Our regression line is: y = 0.00392x + -7.05969\n"
     ]
    },
    {
     "data": {
      "image/png": "[encoded data removed]",
      "text/plain": [
       "<Figure size 1080x360 with 2 Axes>"
      ]
     },
     "metadata": {
      "needs_background": "light"
     },
     "output_type": "display_data"
    },
    {
     "name": "stderr",
     "output_type": "stream",
     "text": [
      "/Users/abigailcampbell/anaconda3/envs/learn-env/lib/python3.8/site-packages/scipy/stats/stats.py:1603: UserWarning: kurtosistest only valid for n>=20 ... continuing anyway, n=10\n",
      "  warnings.warn(\"kurtosistest only valid for n>=20 ... continuing \"\n"
     ]
    },
    {
     "data": {
      "text/html": [
       "<table class=\"simpletable\">\n",
       "<caption>OLS Regression Results</caption>\n",
       "<tr>\n",
       "  <th>Dep. Variable:</th>      <td>fresh_rating</td>   <th>  R-squared:         </th> <td>   0.008</td>\n",
       "</tr>\n",
       "<tr>\n",
       "  <th>Model:</th>                   <td>OLS</td>       <th>  Adj. R-squared:    </th> <td>  -0.116</td>\n",
       "</tr>\n",
       "<tr>\n",
       "  <th>Method:</th>             <td>Least Squares</td>  <th>  F-statistic:       </th> <td> 0.06276</td>\n",
       "</tr>\n",
       "<tr>\n",
       "  <th>Date:</th>             <td>Mon, 25 Sep 2023</td> <th>  Prob (F-statistic):</th>  <td> 0.809</td> \n",
       "</tr>\n",
       "<tr>\n",
       "  <th>Time:</th>                 <td>14:40:36</td>     <th>  Log-Likelihood:    </th> <td>  2.2090</td>\n",
       "</tr>\n",
       "<tr>\n",
       "  <th>No. Observations:</th>      <td>    10</td>      <th>  AIC:               </th> <td> -0.4180</td>\n",
       "</tr>\n",
       "<tr>\n",
       "  <th>Df Residuals:</th>          <td>     8</td>      <th>  BIC:               </th> <td>  0.1872</td>\n",
       "</tr>\n",
       "<tr>\n",
       "  <th>Df Model:</th>              <td>     1</td>      <th>                     </th>     <td> </td>   \n",
       "</tr>\n",
       "<tr>\n",
       "  <th>Covariance Type:</th>      <td>nonrobust</td>    <th>                     </th>     <td> </td>   \n",
       "</tr>\n",
       "</table>\n",
       "<table class=\"simpletable\">\n",
       "<tr>\n",
       "    <td></td>       <th>coef</th>     <th>std err</th>      <th>t</th>      <th>P>|t|</th>  <th>[0.025</th>    <th>0.975]</th>  \n",
       "</tr>\n",
       "<tr>\n",
       "  <th>const</th> <td>   -7.0597</td> <td>   31.376</td> <td>   -0.225</td> <td> 0.828</td> <td>  -79.413</td> <td>   65.294</td>\n",
       "</tr>\n",
       "<tr>\n",
       "  <th>year</th>  <td>    0.0039</td> <td>    0.016</td> <td>    0.251</td> <td> 0.809</td> <td>   -0.032</td> <td>    0.040</td>\n",
       "</tr>\n",
       "</table>\n",
       "<table class=\"simpletable\">\n",
       "<tr>\n",
       "  <th>Omnibus:</th>       <td> 7.258</td> <th>  Durbin-Watson:     </th> <td>   1.663</td>\n",
       "</tr>\n",
       "<tr>\n",
       "  <th>Prob(Omnibus):</th> <td> 0.027</td> <th>  Jarque-Bera (JB):  </th> <td>   2.923</td>\n",
       "</tr>\n",
       "<tr>\n",
       "  <th>Skew:</th>          <td>-1.248</td> <th>  Prob(JB):          </th> <td>   0.232</td>\n",
       "</tr>\n",
       "<tr>\n",
       "  <th>Kurtosis:</th>      <td> 3.886</td> <th>  Cond. No.          </th> <td>9.18e+05</td>\n",
       "</tr>\n",
       "</table><br/><br/>Notes:<br/>[1] Standard Errors assume that the covariance matrix of the errors is correctly specified.<br/>[2] The condition number is large, 9.18e+05. This might indicate that there are<br/>strong multicollinearity or other numerical problems."
      ],
      "text/plain": [
       "<class 'statsmodels.iolib.summary.Summary'>\n",
       "\"\"\"\n",
       "                            OLS Regression Results                            \n",
       "==============================================================================\n",
       "Dep. Variable:           fresh_rating   R-squared:                       0.008\n",
       "Model:                            OLS   Adj. R-squared:                 -0.116\n",
       "Method:                 Least Squares   F-statistic:                   0.06276\n",
       "Date:                Mon, 25 Sep 2023   Prob (F-statistic):              0.809\n",
       "Time:                        14:40:36   Log-Likelihood:                 2.2090\n",
       "No. Observations:                  10   AIC:                           -0.4180\n",
       "Df Residuals:                       8   BIC:                            0.1872\n",
       "Df Model:                           1                                         \n",
       "Covariance Type:            nonrobust                                         \n",
       "==============================================================================\n",
       "                 coef    std err          t      P>|t|      [0.025      0.975]\n",
       "------------------------------------------------------------------------------\n",
       "const         -7.0597     31.376     -0.225      0.828     -79.413      65.294\n",
       "year           0.0039      0.016      0.251      0.809      -0.032       0.040\n",
       "==============================================================================\n",
       "Omnibus:                        7.258   Durbin-Watson:                   1.663\n",
       "Prob(Omnibus):                  0.027   Jarque-Bera (JB):                2.923\n",
       "Skew:                          -1.248   Prob(JB):                        0.232\n",
       "Kurtosis:                       3.886   Cond. No.                     9.18e+05\n",
       "==============================================================================\n",
       "\n",
       "Notes:\n",
       "[1] Standard Errors assume that the covariance matrix of the errors is correctly specified.\n",
       "[2] The condition number is large, 9.18e+05. This might indicate that there are\n",
       "strong multicollinearity or other numerical problems.\n",
       "\"\"\""
      ]
     },
     "execution_count": 39,
     "metadata": {},
     "output_type": "execute_result"
    }
   ],
   "source": [
    "spielberg_data = rt_movie_fresh_df[rt_movie_fresh_df['director'] == 'Steven Spielberg']\n",
    "spielberg_results = lin_reg_fresh_all(data_set=spielberg_data, x='year', y='fresh_rating')\n",
    "spielberg_results.summary()"
   ]
  },
  {
   "cell_type": "markdown",
   "metadata": {},
   "source": [
    "### Interpretation\n",
    "\n",
    "Steven Spielberg appears to be fairly consistent in hi movie ratings, with only a few outliers. However, when fitted to a linear model, the large p value indicates that there is no clear trend that can be established, and we therefore can not reject the null hypothesis. This is likely due to the small number of data points, as we can see the confidence interval shown on the left plot become wider in regions where there are fewer points."
   ]
  },
  {
   "cell_type": "code",
   "execution_count": 40,
   "metadata": {},
   "outputs": [
    {
     "name": "stdout",
     "output_type": "stream",
     "text": [
      "Our regression line is: y = -0.03706x + 75.06272\n"
     ]
    },
    {
     "data": {
      "image/png": "[encoded data removed]",
      "text/plain": [
       "<Figure size 1080x360 with 2 Axes>"
      ]
     },
     "metadata": {
      "needs_background": "light"
     },
     "output_type": "display_data"
    },
    {
     "name": "stderr",
     "output_type": "stream",
     "text": [
      "/Users/abigailcampbell/anaconda3/envs/learn-env/lib/python3.8/site-packages/scipy/stats/stats.py:1603: UserWarning: kurtosistest only valid for n>=20 ... continuing anyway, n=8\n",
      "  warnings.warn(\"kurtosistest only valid for n>=20 ... continuing \"\n"
     ]
    },
    {
     "data": {
      "text/html": [
       "<table class=\"simpletable\">\n",
       "<caption>OLS Regression Results</caption>\n",
       "<tr>\n",
       "  <th>Dep. Variable:</th>      <td>fresh_rating</td>   <th>  R-squared:         </th> <td>   0.467</td>\n",
       "</tr>\n",
       "<tr>\n",
       "  <th>Model:</th>                   <td>OLS</td>       <th>  Adj. R-squared:    </th> <td>   0.378</td>\n",
       "</tr>\n",
       "<tr>\n",
       "  <th>Method:</th>             <td>Least Squares</td>  <th>  F-statistic:       </th> <td>   5.250</td>\n",
       "</tr>\n",
       "<tr>\n",
       "  <th>Date:</th>             <td>Mon, 25 Sep 2023</td> <th>  Prob (F-statistic):</th>  <td>0.0618</td> \n",
       "</tr>\n",
       "<tr>\n",
       "  <th>Time:</th>                 <td>14:40:38</td>     <th>  Log-Likelihood:    </th> <td>  1.9155</td>\n",
       "</tr>\n",
       "<tr>\n",
       "  <th>No. Observations:</th>      <td>     8</td>      <th>  AIC:               </th> <td>  0.1689</td>\n",
       "</tr>\n",
       "<tr>\n",
       "  <th>Df Residuals:</th>          <td>     6</td>      <th>  BIC:               </th> <td>  0.3278</td>\n",
       "</tr>\n",
       "<tr>\n",
       "  <th>Df Model:</th>              <td>     1</td>      <th>                     </th>     <td> </td>   \n",
       "</tr>\n",
       "<tr>\n",
       "  <th>Covariance Type:</th>      <td>nonrobust</td>    <th>                     </th>     <td> </td>   \n",
       "</tr>\n",
       "</table>\n",
       "<table class=\"simpletable\">\n",
       "<tr>\n",
       "    <td></td>       <th>coef</th>     <th>std err</th>      <th>t</th>      <th>P>|t|</th>  <th>[0.025</th>    <th>0.975]</th>  \n",
       "</tr>\n",
       "<tr>\n",
       "  <th>const</th> <td>   75.0627</td> <td>   32.462</td> <td>    2.312</td> <td> 0.060</td> <td>   -4.370</td> <td>  154.495</td>\n",
       "</tr>\n",
       "<tr>\n",
       "  <th>year</th>  <td>   -0.0371</td> <td>    0.016</td> <td>   -2.291</td> <td> 0.062</td> <td>   -0.077</td> <td>    0.003</td>\n",
       "</tr>\n",
       "</table>\n",
       "<table class=\"simpletable\">\n",
       "<tr>\n",
       "  <th>Omnibus:</th>       <td> 7.367</td> <th>  Durbin-Watson:     </th> <td>   2.118</td>\n",
       "</tr>\n",
       "<tr>\n",
       "  <th>Prob(Omnibus):</th> <td> 0.025</td> <th>  Jarque-Bera (JB):  </th> <td>   2.403</td>\n",
       "</tr>\n",
       "<tr>\n",
       "  <th>Skew:</th>          <td>-1.300</td> <th>  Prob(JB):          </th> <td>   0.301</td>\n",
       "</tr>\n",
       "<tr>\n",
       "  <th>Kurtosis:</th>      <td> 3.670</td> <th>  Cond. No.          </th> <td>8.38e+05</td>\n",
       "</tr>\n",
       "</table><br/><br/>Notes:<br/>[1] Standard Errors assume that the covariance matrix of the errors is correctly specified.<br/>[2] The condition number is large, 8.38e+05. This might indicate that there are<br/>strong multicollinearity or other numerical problems."
      ],
      "text/plain": [
       "<class 'statsmodels.iolib.summary.Summary'>\n",
       "\"\"\"\n",
       "                            OLS Regression Results                            \n",
       "==============================================================================\n",
       "Dep. Variable:           fresh_rating   R-squared:                       0.467\n",
       "Model:                            OLS   Adj. R-squared:                  0.378\n",
       "Method:                 Least Squares   F-statistic:                     5.250\n",
       "Date:                Mon, 25 Sep 2023   Prob (F-statistic):             0.0618\n",
       "Time:                        14:40:38   Log-Likelihood:                 1.9155\n",
       "No. Observations:                   8   AIC:                            0.1689\n",
       "Df Residuals:                       6   BIC:                            0.3278\n",
       "Df Model:                           1                                         \n",
       "Covariance Type:            nonrobust                                         \n",
       "==============================================================================\n",
       "                 coef    std err          t      P>|t|      [0.025      0.975]\n",
       "------------------------------------------------------------------------------\n",
       "const         75.0627     32.462      2.312      0.060      -4.370     154.495\n",
       "year          -0.0371      0.016     -2.291      0.062      -0.077       0.003\n",
       "==============================================================================\n",
       "Omnibus:                        7.367   Durbin-Watson:                   2.118\n",
       "Prob(Omnibus):                  0.025   Jarque-Bera (JB):                2.403\n",
       "Skew:                          -1.300   Prob(JB):                        0.301\n",
       "Kurtosis:                       3.670   Cond. No.                     8.38e+05\n",
       "==============================================================================\n",
       "\n",
       "Notes:\n",
       "[1] Standard Errors assume that the covariance matrix of the errors is correctly specified.\n",
       "[2] The condition number is large, 8.38e+05. This might indicate that there are\n",
       "strong multicollinearity or other numerical problems.\n",
       "\"\"\""
      ]
     },
     "execution_count": 40,
     "metadata": {},
     "output_type": "execute_result"
    }
   ],
   "source": [
    "eastwood_data = rt_movie_fresh_df[rt_movie_fresh_df['director'] == 'Clint Eastwood']\n",
    "eastwood_results = lin_reg_fresh_all(data_set=eastwood_data, x='year', y='fresh_rating')\n",
    "eastwood_results.summary()"
   ]
  },
  {
   "cell_type": "markdown",
   "metadata": {},
   "source": [
    "### Interpretation\n",
    "Clint Eastwood's reviews appears to be declining over time, with only a few outliers. However, when fitted to a linear model, the large p value indicates that there is no clear trend that can be established, and we therefore can not reject the null hypothesis. This is likely due to the small number of data points, as we can see the confidence interval shown on the left plot become wider in regions where there are fewer points."
   ]
  }
 ],
 "metadata": {
  "kernelspec": {
   "display_name": "Python 3",
   "language": "python",
   "name": "python3"
  },
  "language_info": {
   "codemirror_mode": {
    "name": "ipython",
    "version": 3
   },
   "file_extension": ".py",
   "mimetype": "text/x-python",
   "name": "python",
   "nbconvert_exporter": "python",
   "pygments_lexer": "ipython3",
   "version": "3.8.5"
  }
 },
 "nbformat": 4,
 "nbformat_minor": 2
}
